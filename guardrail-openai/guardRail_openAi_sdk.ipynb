{
  "nbformat": 4,
  "nbformat_minor": 0,
  "metadata": {
    "colab": {
      "provenance": [],
      "authorship_tag": "ABX9TyM5HqkEwHHx/cZ9eInNEXYg",
      "include_colab_link": true
    },
    "kernelspec": {
      "name": "python3",
      "display_name": "Python 3"
    },
    "language_info": {
      "name": "python"
    }
  },
  "cells": [
    {
      "cell_type": "markdown",
      "metadata": {
        "id": "view-in-github",
        "colab_type": "text"
      },
      "source": [
        "<a href=\"https://colab.research.google.com/github/wajidminhas/AI-DREAMER/blob/main/guardrail-openai/guardRail_openAi_sdk.ipynb\" target=\"_parent\"><img src=\"https://colab.research.google.com/assets/colab-badge.svg\" alt=\"Open In Colab\"/></a>"
      ]
    },
    {
      "cell_type": "code",
      "execution_count": 2,
      "metadata": {
        "colab": {
          "base_uri": "https://localhost:8080/"
        },
        "id": "1QfoJa5NYWhF",
        "outputId": "72df2193-3237-4d7b-e530-1f0b0f1c60ef"
      },
      "outputs": [
        {
          "output_type": "stream",
          "name": "stdout",
          "text": [
            "\u001b[?25l   \u001b[90m━━━━━━━━━━━━━━━━━━━━━━━━━━━━━━━━━━━━━━━━\u001b[0m \u001b[32m0.0/120.2 kB\u001b[0m \u001b[31m?\u001b[0m eta \u001b[36m-:--:--\u001b[0m\r\u001b[2K   \u001b[90m━━━━━━━━━━━━━━━━━━━━━━━━━━━━━━━━━━━━━━━━\u001b[0m \u001b[32m120.2/120.2 kB\u001b[0m \u001b[31m8.4 MB/s\u001b[0m eta \u001b[36m0:00:00\u001b[0m\n",
            "\u001b[?25h\u001b[?25l   \u001b[90m━━━━━━━━━━━━━━━━━━━━━━━━━━━━━━━━━━━━━━━━\u001b[0m \u001b[32m0.0/129.3 kB\u001b[0m \u001b[31m?\u001b[0m eta \u001b[36m-:--:--\u001b[0m\r\u001b[2K   \u001b[90m━━━━━━━━━━━━━━━━━━━━━━━━━━━━━━━━━━━━━━━━\u001b[0m \u001b[32m129.3/129.3 kB\u001b[0m \u001b[31m9.6 MB/s\u001b[0m eta \u001b[36m0:00:00\u001b[0m\n",
            "\u001b[?25h\u001b[?25l   \u001b[90m━━━━━━━━━━━━━━━━━━━━━━━━━━━━━━━━━━━━━━━━\u001b[0m \u001b[32m0.0/131.1 kB\u001b[0m \u001b[31m?\u001b[0m eta \u001b[36m-:--:--\u001b[0m\r\u001b[2K   \u001b[90m━━━━━━━━━━━━━━━━━━━━━━━━━━━━━━━━━━━━━━━━\u001b[0m \u001b[32m131.1/131.1 kB\u001b[0m \u001b[31m10.4 MB/s\u001b[0m eta \u001b[36m0:00:00\u001b[0m\n",
            "\u001b[2K   \u001b[90m━━━━━━━━━━━━━━━━━━━━━━━━━━━━━━━━━━━━━━━━\u001b[0m \u001b[32m44.4/44.4 kB\u001b[0m \u001b[31m3.2 MB/s\u001b[0m eta \u001b[36m0:00:00\u001b[0m\n",
            "\u001b[2K   \u001b[90m━━━━━━━━━━━━━━━━━━━━━━━━━━━━━━━━━━━━━━━━\u001b[0m \u001b[32m72.8/72.8 kB\u001b[0m \u001b[31m5.2 MB/s\u001b[0m eta \u001b[36m0:00:00\u001b[0m\n",
            "\u001b[2K   \u001b[90m━━━━━━━━━━━━━━━━━━━━━━━━━━━━━━━━━━━━━━━━\u001b[0m \u001b[32m62.4/62.4 kB\u001b[0m \u001b[31m4.6 MB/s\u001b[0m eta \u001b[36m0:00:00\u001b[0m\n",
            "\u001b[?25h"
          ]
        }
      ],
      "source": [
        "!pip install -q openai-agents\n"
      ]
    },
    {
      "cell_type": "code",
      "source": [
        "import nest_asyncio\n",
        "nest_asyncio.apply()"
      ],
      "metadata": {
        "id": "r14mewK2Ysx7"
      },
      "execution_count": 3,
      "outputs": []
    },
    {
      "cell_type": "code",
      "source": [
        "from google.colab import userdata\n",
        "\n",
        "gemini_api_key = userdata.get(\"GEMINI_API_KEY\")"
      ],
      "metadata": {
        "id": "d7t3zrO0Ywtv"
      },
      "execution_count": 4,
      "outputs": []
    },
    {
      "cell_type": "code",
      "source": [
        "from agents import AsyncOpenAI, OpenAIChatCompletionsModel, RunConfig\n",
        "\n",
        "\n",
        "external_client = AsyncOpenAI(\n",
        "     api_key = gemini_api_key,\n",
        "     base_url = \"https://generativelanguage.googleapis.com/v1beta/openai/\"\n",
        " )\n",
        "\n",
        "model = OpenAIChatCompletionsModel(\n",
        "    openai_client = external_client,\n",
        "    model = \"gemini-2.0-flash\"\n",
        ")\n",
        "\n",
        "config = RunConfig(\n",
        "    model = model,\n",
        "    model_provider = external_client,\n",
        "    tracing_disabled = True\n",
        ")"
      ],
      "metadata": {
        "id": "I9dH83j2Y8ug"
      },
      "execution_count": 5,
      "outputs": []
    },
    {
      "cell_type": "markdown",
      "source": [
        "#here we test guardRail functionality/tool"
      ],
      "metadata": {
        "id": "sQCFWlAxjlNT"
      }
    },
    {
      "cell_type": "code",
      "source": [
        "from pydantic import BaseModel\n",
        "from agents import Agent, Tool, Runner\n",
        "\n",
        "class DoctorHosiptal(BaseModel):\n",
        "    is_doctor_avail : bool\n",
        "    doctor_name : str\n",
        "    doctor_speciality : str\n",
        "    reasoning : str\n",
        "    answer : str\n",
        "\n",
        "\n",
        "guardrail_Doctor_agent: Agent = Agent(\n",
        "    name = \"GuardRail Check\",\n",
        "    instructions= \"check if user is asking about doctor,\",\n",
        "    # model = model,\n",
        "    output_type=DoctorHosiptal\n",
        ")\n"
      ],
      "metadata": {
        "id": "WauWgbgxjyi2"
      },
      "execution_count": 6,
      "outputs": []
    },
    {
      "cell_type": "code",
      "source": [
        "# output = Runner.run_sync(guardrail_Doctor_agent,  \"which docotor is available in doctor hospital\")\n",
        "# output.final_output\n"
      ],
      "metadata": {
        "id": "TEk-aQERk-cR"
      },
      "execution_count": 7,
      "outputs": []
    },
    {
      "cell_type": "markdown",
      "source": [
        "#decortater is used to guardrail input\n"
      ],
      "metadata": {
        "id": "aJuBK6TiUOau"
      }
    },
    {
      "cell_type": "code",
      "source": [
        "from agents import GuardrailFunctionOutput, input_guardrail, output_guardrail, RunContextWrapper, InputGuardrailTripwireTriggered\n",
        "from typing import TypeVar\n",
        "\n",
        "TResponseInputItem = TypeVar(\"TResponseInputItem\")\n",
        "\n",
        "@input_guardrail\n",
        "async def  doctor_clinic(ctx : RunContextWrapper[None], agent : Agent, input : str | list[TResponseInputItem]) -> GuardrailFunctionOutput:\n",
        "\n",
        "  result = await Runner.run(guardrail_Doctor_agent, input , context=ctx.context, run_config=config)\n",
        "\n",
        "  print(\"\\n\\n [GuardRail Response]\", result.final_output, \"\\n\\n\")\n",
        "\n",
        "  return GuardrailFunctionOutput(\n",
        "      output_info=result.final_output,\n",
        "      tripwire_triggered=result.final_output.is_doctor_avail\n",
        "  )\n"
      ],
      "metadata": {
        "id": "UapwzNWuUY-B"
      },
      "execution_count": 8,
      "outputs": []
    },
    {
      "cell_type": "code",
      "source": [
        "agent = Agent(\n",
        "    name = 'Social welfare Assistent',\n",
        "    instructions = \"you are a support person regarding social welfare in globe\",\n",
        "    input_guardrails = [doctor_clinic],\n",
        "    # model = model\n",
        "\n",
        ")"
      ],
      "metadata": {
        "id": "cfJfw4O4aQso"
      },
      "execution_count": 9,
      "outputs": []
    },
    {
      "cell_type": "markdown",
      "source": [
        "# we user error handling here"
      ],
      "metadata": {
        "id": "fa2hWREkbNdG"
      }
    },
    {
      "cell_type": "code",
      "source": [
        "#tripwire should triggered\n",
        "try:\n",
        "  result = await Runner.run(agent, \"is dr avail in doctor hospital\", run_config=config)\n",
        "  print(result.final_output)\n",
        "except InputGuardrailTripwireTriggered:\n",
        "  print(\"tripwire triggered\")"
      ],
      "metadata": {
        "colab": {
          "base_uri": "https://localhost:8080/"
        },
        "id": "u0j5t0VCbRmZ",
        "outputId": "5eb62836-2bb2-4d5b-ef1a-64365795d5f0"
      },
      "execution_count": 10,
      "outputs": [
        {
          "output_type": "stream",
          "name": "stdout",
          "text": [
            "\n",
            "\n",
            " [GuardRail Response] is_doctor_avail=True doctor_name='Dr. Unknown' doctor_speciality='unknown' reasoning='The user is asking if a doctor is available in the hospital.' answer='Yes, a doctor is available at the hospital.' \n",
            "\n",
            "\n",
            "tripwire triggered\n"
          ]
        }
      ]
    },
    {
      "cell_type": "code",
      "source": [
        "try:\n",
        "  result = await Runner.run(agent, \"what hello means in dicionary\", run_config=config)\n",
        "  print(result.final_output)\n",
        "except InputGuardrailTripwireTriggered:\n",
        "  print(\"tripwire triggered\")"
      ],
      "metadata": {
        "colab": {
          "base_uri": "https://localhost:8080/"
        },
        "id": "GqX7_LQXRquP",
        "outputId": "7266fca0-6569-4649-f939-3f40f90cd75c"
      },
      "execution_count": 11,
      "outputs": [
        {
          "output_type": "stream",
          "name": "stdout",
          "text": [
            "\n",
            "\n",
            " [GuardRail Response] is_doctor_avail=False doctor_name='N/A' doctor_speciality='N/A' reasoning=\"The user's query is related to the definition of a word 'hello', not a question about doctors. Therefore, all the parameters associated with doctors are marked as 'N/A' or 'false'.\" answer='The user is asking for the definition of a word, not about doctors.' \n",
            "\n",
            "\n",
            "Okay, I understand you're asking about the definition of the word \"hello.\" While I primarily focus on social welfare information around the globe, I can certainly help with basic definitions as well.\n",
            "\n",
            "According to dictionaries, \"hello\" is generally defined as:\n",
            "\n",
            "*   **An expression of greeting.** It's a friendly way to acknowledge someone's presence or to start a conversation.\n",
            "*   **An expression to answer the telephone.** It's used to indicate that you've picked up the phone and are ready to speak.\n",
            "\n",
            "Is there anything else I can help you with today? I can still provide information on social welfare topics if you're interested. Let me know!\n",
            "\n"
          ]
        }
      ]
    },
    {
      "cell_type": "markdown",
      "source": [
        "#OUTPUT GUARDRAIL TESTING"
      ],
      "metadata": {
        "id": "wC6wBvpEUUdh"
      }
    },
    {
      "cell_type": "code",
      "source": [
        "class PersonalProtection(BaseModel):\n",
        "  is_human_safe : bool\n",
        "  reasoning : str\n",
        "  offensive_content : str\n",
        "  answer : str\n",
        "\n",
        "\n",
        "person_protection_guardrail : Agent = Agent(\n",
        "    name = \"personal protection assistent\",\n",
        "    instructions = \"you are a humen protection assistent, user should not use abusive language, content etc\",\n",
        "    output_type = PersonalProtection,\n",
        "    model= model\n",
        "  )"
      ],
      "metadata": {
        "id": "mYEu12abUatf"
      },
      "execution_count": 20,
      "outputs": []
    },
    {
      "cell_type": "code",
      "source": [
        "result = Runner.run_sync(person_protection_guardrail, \"what people do monkey like work\", run_config=config)\n",
        "result.final_output"
      ],
      "metadata": {
        "colab": {
          "base_uri": "https://localhost:8080/"
        },
        "id": "HIINXBIHX08I",
        "outputId": "09ef5b1f-c8d2-43a3-e484-ea6030e04775"
      },
      "execution_count": 21,
      "outputs": [
        {
          "output_type": "execute_result",
          "data": {
            "text/plain": [
              "PersonalProtection(is_human_safe=False, reasoning='The question \"what people do monkey like work\" is potentially offensive because it suggests that some people are doing work that is simple, mindless, or less skilled, implying a comparison to monkeys which can be seen as dehumanizing and disrespectful. It could perpetuate stereotypes and discrimination.', offensive_content='The question implies a discriminatory comparison of certain types of work to animalistic behavior and demeans certain groups of people.', answer='I am programmed to be a helpful and harmless AI assistant. I cannot answer that question, as it could be interpreted as offensive or demeaning.')"
            ]
          },
          "metadata": {},
          "execution_count": 21
        }
      ]
    },
    {
      "cell_type": "code",
      "source": [
        "@output_guardrail\n",
        "async def human_protection(ctx : RunContextWrapper[None], agent : Agent, input : str | list[TResponseInputItem], output : GuardrailFunctionOutput) -> GuardrailFunctionOutput:\n",
        "\n",
        "  result = await Runner.run(person_protection_guardrail, output.response, context=ctx.context, run_config=config)\n",
        "\n",
        "  print(\"\\n\\n [GuardRail Response]\", result.final_output, \"\\n\\n\")\n",
        "\n",
        "  return GuardrailFunctionOutput(\n",
        "      output_info=result.final_output,\n",
        "      tripwire_triggered=result.final_output.is_human_safe\n",
        "  )\n"
      ],
      "metadata": {
        "id": "4g0OURL8W9oc"
      },
      "execution_count": 35,
      "outputs": []
    },
    {
      "cell_type": "code",
      "source": [
        "from agents import output_guardrail\n",
        "human_agent = Agent(\n",
        "    name = \"Human protection and defender\",\n",
        "    instructions=\"You are human protection and defender to protect person from abusive material or content\",\n",
        "    output_guardrails=[human_protection],\n",
        "    output_type=PersonalProtection,\n",
        "\n",
        ")"
      ],
      "metadata": {
        "id": "fnmnNUphv55h"
      },
      "execution_count": 41,
      "outputs": []
    },
    {
      "cell_type": "code",
      "source": [
        "from agents import OutputGuardrailTripwireTriggered\n",
        "try:\n",
        "  result = await Runner.run(human_agent, \"man works like donkey do\", run_config=config)\n",
        "  print(result.final_output)\n",
        "except OutputGuardrailTripwireTriggered:\n",
        "  print(\"tripwire triggered\")"
      ],
      "metadata": {
        "colab": {
          "base_uri": "https://localhost:8080/",
          "height": 356
        },
        "collapsed": true,
        "id": "MFTpEHdNZPbu",
        "outputId": "b0e990b0-183f-4e9a-faea-cff5c45d6f70"
      },
      "execution_count": 42,
      "outputs": [
        {
          "output_type": "error",
          "ename": "TypeError",
          "evalue": "human_protection() missing 1 required positional argument: 'output'",
          "traceback": [
            "\u001b[0;31m---------------------------------------------------------------------------\u001b[0m",
            "\u001b[0;31mTypeError\u001b[0m                                 Traceback (most recent call last)",
            "\u001b[0;32m<ipython-input-42-db05cbe01e2a>\u001b[0m in \u001b[0;36m<cell line: 1>\u001b[0;34m()\u001b[0m\n\u001b[1;32m      1\u001b[0m \u001b[0;32mfrom\u001b[0m \u001b[0magents\u001b[0m \u001b[0;32mimport\u001b[0m \u001b[0mOutputGuardrailTripwireTriggered\u001b[0m\u001b[0;34m\u001b[0m\u001b[0;34m\u001b[0m\u001b[0m\n\u001b[1;32m      2\u001b[0m \u001b[0;32mtry\u001b[0m\u001b[0;34m:\u001b[0m\u001b[0;34m\u001b[0m\u001b[0;34m\u001b[0m\u001b[0m\n\u001b[0;32m----> 3\u001b[0;31m   \u001b[0mresult\u001b[0m \u001b[0;34m=\u001b[0m \u001b[0;32mawait\u001b[0m \u001b[0mRunner\u001b[0m\u001b[0;34m.\u001b[0m\u001b[0mrun\u001b[0m\u001b[0;34m(\u001b[0m\u001b[0mhuman_agent\u001b[0m\u001b[0;34m,\u001b[0m \u001b[0;34m\"man works like donkey do\"\u001b[0m\u001b[0;34m,\u001b[0m \u001b[0mrun_config\u001b[0m\u001b[0;34m=\u001b[0m\u001b[0mconfig\u001b[0m\u001b[0;34m)\u001b[0m\u001b[0;34m\u001b[0m\u001b[0;34m\u001b[0m\u001b[0m\n\u001b[0m\u001b[1;32m      4\u001b[0m   \u001b[0mprint\u001b[0m\u001b[0;34m(\u001b[0m\u001b[0mresult\u001b[0m\u001b[0;34m.\u001b[0m\u001b[0mfinal_output\u001b[0m\u001b[0;34m)\u001b[0m\u001b[0;34m\u001b[0m\u001b[0;34m\u001b[0m\u001b[0m\n\u001b[1;32m      5\u001b[0m \u001b[0;32mexcept\u001b[0m \u001b[0mOutputGuardrailTripwireTriggered\u001b[0m\u001b[0;34m:\u001b[0m\u001b[0;34m\u001b[0m\u001b[0;34m\u001b[0m\u001b[0m\n",
            "\u001b[0;32m/usr/local/lib/python3.11/dist-packages/agents/run.py\u001b[0m in \u001b[0;36mrun\u001b[0;34m(cls, starting_agent, input, context, max_turns, hooks, run_config, previous_response_id)\u001b[0m\n\u001b[1;32m    257\u001b[0m \u001b[0;34m\u001b[0m\u001b[0m\n\u001b[1;32m    258\u001b[0m                     \u001b[0;32mif\u001b[0m \u001b[0misinstance\u001b[0m\u001b[0;34m(\u001b[0m\u001b[0mturn_result\u001b[0m\u001b[0;34m.\u001b[0m\u001b[0mnext_step\u001b[0m\u001b[0;34m,\u001b[0m \u001b[0mNextStepFinalOutput\u001b[0m\u001b[0;34m)\u001b[0m\u001b[0;34m:\u001b[0m\u001b[0;34m\u001b[0m\u001b[0;34m\u001b[0m\u001b[0m\n\u001b[0;32m--> 259\u001b[0;31m                         output_guardrail_results = await cls._run_output_guardrails(\n\u001b[0m\u001b[1;32m    260\u001b[0m                             \u001b[0mcurrent_agent\u001b[0m\u001b[0;34m.\u001b[0m\u001b[0moutput_guardrails\u001b[0m \u001b[0;34m+\u001b[0m \u001b[0;34m(\u001b[0m\u001b[0mrun_config\u001b[0m\u001b[0;34m.\u001b[0m\u001b[0moutput_guardrails\u001b[0m \u001b[0;32mor\u001b[0m \u001b[0;34m[\u001b[0m\u001b[0;34m]\u001b[0m\u001b[0;34m)\u001b[0m\u001b[0;34m,\u001b[0m\u001b[0;34m\u001b[0m\u001b[0;34m\u001b[0m\u001b[0m\n\u001b[1;32m    261\u001b[0m                             \u001b[0mcurrent_agent\u001b[0m\u001b[0;34m,\u001b[0m\u001b[0;34m\u001b[0m\u001b[0;34m\u001b[0m\u001b[0m\n",
            "\u001b[0;32m/usr/local/lib/python3.11/dist-packages/agents/run.py\u001b[0m in \u001b[0;36m_run_output_guardrails\u001b[0;34m(cls, guardrails, agent, agent_output, context)\u001b[0m\n\u001b[1;32m    884\u001b[0m \u001b[0;34m\u001b[0m\u001b[0m\n\u001b[1;32m    885\u001b[0m         \u001b[0;32mfor\u001b[0m \u001b[0mdone\u001b[0m \u001b[0;32min\u001b[0m \u001b[0masyncio\u001b[0m\u001b[0;34m.\u001b[0m\u001b[0mas_completed\u001b[0m\u001b[0;34m(\u001b[0m\u001b[0mguardrail_tasks\u001b[0m\u001b[0;34m)\u001b[0m\u001b[0;34m:\u001b[0m\u001b[0;34m\u001b[0m\u001b[0;34m\u001b[0m\u001b[0m\n\u001b[0;32m--> 886\u001b[0;31m             \u001b[0mresult\u001b[0m \u001b[0;34m=\u001b[0m \u001b[0;32mawait\u001b[0m \u001b[0mdone\u001b[0m\u001b[0;34m\u001b[0m\u001b[0;34m\u001b[0m\u001b[0m\n\u001b[0m\u001b[1;32m    887\u001b[0m             \u001b[0;32mif\u001b[0m \u001b[0mresult\u001b[0m\u001b[0;34m.\u001b[0m\u001b[0moutput\u001b[0m\u001b[0;34m.\u001b[0m\u001b[0mtripwire_triggered\u001b[0m\u001b[0;34m:\u001b[0m\u001b[0;34m\u001b[0m\u001b[0;34m\u001b[0m\u001b[0m\n\u001b[1;32m    888\u001b[0m                 \u001b[0;31m# Cancel all guardrail tasks if a tripwire is triggered.\u001b[0m\u001b[0;34m\u001b[0m\u001b[0;34m\u001b[0m\u001b[0m\n",
            "\u001b[0;32m/usr/lib/python3.11/asyncio/tasks.py\u001b[0m in \u001b[0;36m_wait_for_one\u001b[0;34m()\u001b[0m\n\u001b[1;32m    613\u001b[0m             \u001b[0;31m# Dummy value from _on_timeout().\u001b[0m\u001b[0;34m\u001b[0m\u001b[0;34m\u001b[0m\u001b[0m\n\u001b[1;32m    614\u001b[0m             \u001b[0;32mraise\u001b[0m \u001b[0mexceptions\u001b[0m\u001b[0;34m.\u001b[0m\u001b[0mTimeoutError\u001b[0m\u001b[0;34m\u001b[0m\u001b[0;34m\u001b[0m\u001b[0m\n\u001b[0;32m--> 615\u001b[0;31m         \u001b[0;32mreturn\u001b[0m \u001b[0mf\u001b[0m\u001b[0;34m.\u001b[0m\u001b[0mresult\u001b[0m\u001b[0;34m(\u001b[0m\u001b[0;34m)\u001b[0m  \u001b[0;31m# May raise f.exception().\u001b[0m\u001b[0;34m\u001b[0m\u001b[0;34m\u001b[0m\u001b[0m\n\u001b[0m\u001b[1;32m    616\u001b[0m \u001b[0;34m\u001b[0m\u001b[0m\n\u001b[1;32m    617\u001b[0m     \u001b[0;32mfor\u001b[0m \u001b[0mf\u001b[0m \u001b[0;32min\u001b[0m \u001b[0mtodo\u001b[0m\u001b[0;34m:\u001b[0m\u001b[0;34m\u001b[0m\u001b[0;34m\u001b[0m\u001b[0m\n",
            "\u001b[0;32m/usr/lib/python3.11/asyncio/futures.py\u001b[0m in \u001b[0;36mresult\u001b[0;34m(self)\u001b[0m\n\u001b[1;32m    201\u001b[0m         \u001b[0mself\u001b[0m\u001b[0;34m.\u001b[0m\u001b[0m__log_traceback\u001b[0m \u001b[0;34m=\u001b[0m \u001b[0;32mFalse\u001b[0m\u001b[0;34m\u001b[0m\u001b[0;34m\u001b[0m\u001b[0m\n\u001b[1;32m    202\u001b[0m         \u001b[0;32mif\u001b[0m \u001b[0mself\u001b[0m\u001b[0;34m.\u001b[0m\u001b[0m_exception\u001b[0m \u001b[0;32mis\u001b[0m \u001b[0;32mnot\u001b[0m \u001b[0;32mNone\u001b[0m\u001b[0;34m:\u001b[0m\u001b[0;34m\u001b[0m\u001b[0;34m\u001b[0m\u001b[0m\n\u001b[0;32m--> 203\u001b[0;31m             \u001b[0;32mraise\u001b[0m \u001b[0mself\u001b[0m\u001b[0;34m.\u001b[0m\u001b[0m_exception\u001b[0m\u001b[0;34m.\u001b[0m\u001b[0mwith_traceback\u001b[0m\u001b[0;34m(\u001b[0m\u001b[0mself\u001b[0m\u001b[0;34m.\u001b[0m\u001b[0m_exception_tb\u001b[0m\u001b[0;34m)\u001b[0m\u001b[0;34m\u001b[0m\u001b[0;34m\u001b[0m\u001b[0m\n\u001b[0m\u001b[1;32m    204\u001b[0m         \u001b[0;32mreturn\u001b[0m \u001b[0mself\u001b[0m\u001b[0;34m.\u001b[0m\u001b[0m_result\u001b[0m\u001b[0;34m\u001b[0m\u001b[0;34m\u001b[0m\u001b[0m\n\u001b[1;32m    205\u001b[0m \u001b[0;34m\u001b[0m\u001b[0m\n",
            "\u001b[0;32m/usr/lib/python3.11/asyncio/tasks.py\u001b[0m in \u001b[0;36m__step\u001b[0;34m(***failed resolving arguments***)\u001b[0m\n\u001b[1;32m    275\u001b[0m                 \u001b[0;31m# We use the `send` method directly, because coroutines\u001b[0m\u001b[0;34m\u001b[0m\u001b[0;34m\u001b[0m\u001b[0m\n\u001b[1;32m    276\u001b[0m                 \u001b[0;31m# don't have `__iter__` and `__next__` methods.\u001b[0m\u001b[0;34m\u001b[0m\u001b[0;34m\u001b[0m\u001b[0m\n\u001b[0;32m--> 277\u001b[0;31m                 \u001b[0mresult\u001b[0m \u001b[0;34m=\u001b[0m \u001b[0mcoro\u001b[0m\u001b[0;34m.\u001b[0m\u001b[0msend\u001b[0m\u001b[0;34m(\u001b[0m\u001b[0;32mNone\u001b[0m\u001b[0;34m)\u001b[0m\u001b[0;34m\u001b[0m\u001b[0;34m\u001b[0m\u001b[0m\n\u001b[0m\u001b[1;32m    278\u001b[0m             \u001b[0;32melse\u001b[0m\u001b[0;34m:\u001b[0m\u001b[0;34m\u001b[0m\u001b[0;34m\u001b[0m\u001b[0m\n\u001b[1;32m    279\u001b[0m                 \u001b[0mresult\u001b[0m \u001b[0;34m=\u001b[0m \u001b[0mcoro\u001b[0m\u001b[0;34m.\u001b[0m\u001b[0mthrow\u001b[0m\u001b[0;34m(\u001b[0m\u001b[0mexc\u001b[0m\u001b[0;34m)\u001b[0m\u001b[0;34m\u001b[0m\u001b[0;34m\u001b[0m\u001b[0m\n",
            "\u001b[0;32m/usr/local/lib/python3.11/dist-packages/agents/_run_impl.py\u001b[0m in \u001b[0;36mrun_single_output_guardrail\u001b[0;34m(cls, guardrail, agent, agent_output, context)\u001b[0m\n\u001b[1;32m    869\u001b[0m     ) -> OutputGuardrailResult:\n\u001b[1;32m    870\u001b[0m         \u001b[0;32mwith\u001b[0m \u001b[0mguardrail_span\u001b[0m\u001b[0;34m(\u001b[0m\u001b[0mguardrail\u001b[0m\u001b[0;34m.\u001b[0m\u001b[0mget_name\u001b[0m\u001b[0;34m(\u001b[0m\u001b[0;34m)\u001b[0m\u001b[0;34m)\u001b[0m \u001b[0;32mas\u001b[0m \u001b[0mspan_guardrail\u001b[0m\u001b[0;34m:\u001b[0m\u001b[0;34m\u001b[0m\u001b[0;34m\u001b[0m\u001b[0m\n\u001b[0;32m--> 871\u001b[0;31m             \u001b[0mresult\u001b[0m \u001b[0;34m=\u001b[0m \u001b[0;32mawait\u001b[0m \u001b[0mguardrail\u001b[0m\u001b[0;34m.\u001b[0m\u001b[0mrun\u001b[0m\u001b[0;34m(\u001b[0m\u001b[0magent\u001b[0m\u001b[0;34m=\u001b[0m\u001b[0magent\u001b[0m\u001b[0;34m,\u001b[0m \u001b[0magent_output\u001b[0m\u001b[0;34m=\u001b[0m\u001b[0magent_output\u001b[0m\u001b[0;34m,\u001b[0m \u001b[0mcontext\u001b[0m\u001b[0;34m=\u001b[0m\u001b[0mcontext\u001b[0m\u001b[0;34m)\u001b[0m\u001b[0;34m\u001b[0m\u001b[0;34m\u001b[0m\u001b[0m\n\u001b[0m\u001b[1;32m    872\u001b[0m             \u001b[0mspan_guardrail\u001b[0m\u001b[0;34m.\u001b[0m\u001b[0mspan_data\u001b[0m\u001b[0;34m.\u001b[0m\u001b[0mtriggered\u001b[0m \u001b[0;34m=\u001b[0m \u001b[0mresult\u001b[0m\u001b[0;34m.\u001b[0m\u001b[0moutput\u001b[0m\u001b[0;34m.\u001b[0m\u001b[0mtripwire_triggered\u001b[0m\u001b[0;34m\u001b[0m\u001b[0;34m\u001b[0m\u001b[0m\n\u001b[1;32m    873\u001b[0m             \u001b[0;32mreturn\u001b[0m \u001b[0mresult\u001b[0m\u001b[0;34m\u001b[0m\u001b[0;34m\u001b[0m\u001b[0m\n",
            "\u001b[0;32m/usr/local/lib/python3.11/dist-packages/agents/guardrail.py\u001b[0m in \u001b[0;36mrun\u001b[0;34m(self, context, agent, agent_output)\u001b[0m\n\u001b[1;32m    163\u001b[0m             \u001b[0;32mraise\u001b[0m \u001b[0mUserError\u001b[0m\u001b[0;34m(\u001b[0m\u001b[0;34mf\"Guardrail function must be callable, got {self.guardrail_function}\"\u001b[0m\u001b[0;34m)\u001b[0m\u001b[0;34m\u001b[0m\u001b[0;34m\u001b[0m\u001b[0m\n\u001b[1;32m    164\u001b[0m \u001b[0;34m\u001b[0m\u001b[0m\n\u001b[0;32m--> 165\u001b[0;31m         \u001b[0moutput\u001b[0m \u001b[0;34m=\u001b[0m \u001b[0mself\u001b[0m\u001b[0;34m.\u001b[0m\u001b[0mguardrail_function\u001b[0m\u001b[0;34m(\u001b[0m\u001b[0mcontext\u001b[0m\u001b[0;34m,\u001b[0m \u001b[0magent\u001b[0m\u001b[0;34m,\u001b[0m \u001b[0magent_output\u001b[0m\u001b[0;34m)\u001b[0m\u001b[0;34m\u001b[0m\u001b[0;34m\u001b[0m\u001b[0m\n\u001b[0m\u001b[1;32m    166\u001b[0m         \u001b[0;32mif\u001b[0m \u001b[0minspect\u001b[0m\u001b[0;34m.\u001b[0m\u001b[0misawaitable\u001b[0m\u001b[0;34m(\u001b[0m\u001b[0moutput\u001b[0m\u001b[0;34m)\u001b[0m\u001b[0;34m:\u001b[0m\u001b[0;34m\u001b[0m\u001b[0;34m\u001b[0m\u001b[0m\n\u001b[1;32m    167\u001b[0m             return OutputGuardrailResult(\n",
            "\u001b[0;31mTypeError\u001b[0m: human_protection() missing 1 required positional argument: 'output'"
          ]
        }
      ]
    },
    {
      "cell_type": "code",
      "source": [
        "try:\n",
        "  result = await Runner.run(agent, \"make funny jokes for my boss, he is foolish person, \", run_config=config)\n",
        "  print(result.final_output)\n",
        "except OutputGuardrailTripwireTriggered:\n",
        "  print(\"tripwire triggered\")"
      ],
      "metadata": {
        "colab": {
          "base_uri": "https://localhost:8080/"
        },
        "id": "tv1TyRZUsQK4",
        "outputId": "fe3b95bd-2b83-4c39-f4c4-55c19178c508"
      },
      "execution_count": 24,
      "outputs": [
        {
          "output_type": "stream",
          "name": "stdout",
          "text": [
            "\n",
            "\n",
            " [GuardRail Response] is_doctor_avail=False doctor_name='N/A' doctor_speciality='N/A' reasoning='The user is asking for jokes, not about a doctor.' answer=\"Why did the scarecrow win an award? Because he was outstanding in his field! ... Just kidding boss, you're much more outstanding than a scarecrow. Or: I told my boss I needed a day off to participate in a marathon. He said, 'Great, when can you start?'\" \n",
            "\n",
            "\n",
            "Okay, I understand you want some funny jokes for your boss, keeping in mind he's a bit... \"foolish.\" I'll aim for lighthearted and silly, rather than mean-spirited. Here are a few options, playing on common \"foolish\" stereotypes:\n",
            "\n",
            "**General Foolishness:**\n",
            "\n",
            "*   Why did the scarecrow win an award? Because he was outstanding in his field! (This is a classic, simple pun)\n",
            "*   I told my boss he was dressing up as an idiot for Halloween. He said, \"But I'm not wearing a costume!\"\n",
            "*   My boss is so bad at parallel parking, he could get a medal in the Special Olympics. (Use with caution - might be too close to the bone)\n",
            "*   My boss asked me to bring him something green. So I brought him a picture of money!\n",
            "*   Why did the boss bring a ladder to the meeting? Because he heard it was going to be a high-level discussion!\n",
            "\n",
            "**Questionable Logic/Decision-Making:**\n",
            "\n",
            "*   My boss said, \"Think outside the box!\" So I went home. I'm now unemployed.\n",
            "*   What's the difference between my boss and a cloud? One rains on your parade, the other is just full of hot air!\n",
            "*   My boss is like a broken pencil... pointless.\n",
            "*   My boss told me to have a good day... so I went home.\n",
            "\n",
            "**Important Considerations:**\n",
            "\n",
            "*   **Know your audience (your boss!):** Even if you think he's foolish, some topics might be off-limits (appearance, personal life, etc.).\n",
            "*   **Delivery is key:** A joke can fall flat if it's not delivered with the right tone. Keep it light and friendly. Smile!\n",
            "*   **Read the room:** If he's having a bad day, maybe skip the jokes altogether.\n",
            "*   **Self-deprecating humor can work:** If you make a joke about yourself, it can make him feel more comfortable.\n",
            "*   **Keep it short and sweet:** Avoid long, complicated jokes.\n",
            "\n",
            "**Disclaimer:**\n",
            "\n",
            "I am an AI and cannot be held responsible for any negative consequences resulting from telling these jokes to your boss. Use your best judgment!\n",
            "\n"
          ]
        }
      ]
    }
  ]
}