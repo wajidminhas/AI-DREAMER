{
  "nbformat": 4,
  "nbformat_minor": 0,
  "metadata": {
    "colab": {
      "provenance": [],
      "authorship_tag": "ABX9TyPckcE4e8AjqoP7AiSAVEw8",
      "include_colab_link": true
    },
    "kernelspec": {
      "name": "python3",
      "display_name": "Python 3"
    },
    "language_info": {
      "name": "python"
    }
  },
  "cells": [
    {
      "cell_type": "markdown",
      "metadata": {
        "id": "view-in-github",
        "colab_type": "text"
      },
      "source": [
        "<a href=\"https://colab.research.google.com/github/wajidminhas/AI-DREAMER/blob/main/AI-Agents-OpenAI/my_agent_sdk.ipynb\" target=\"_parent\"><img src=\"https://colab.research.google.com/assets/colab-badge.svg\" alt=\"Open In Colab\"/></a>"
      ]
    },
    {
      "cell_type": "markdown",
      "source": [
        "#Install openai-agents SDK"
      ],
      "metadata": {
        "id": "JNDTYjJ1MUHk"
      }
    },
    {
      "cell_type": "markdown",
      "source": [
        "#Make your Jupyter Notebook capable of running asynchronous functions."
      ],
      "metadata": {
        "id": "4vwieGERMdmO"
      }
    },
    {
      "cell_type": "code",
      "source": [
        "!pip install -q openai-agents"
      ],
      "metadata": {
        "colab": {
          "base_uri": "https://localhost:8080/"
        },
        "id": "GOKpWFZAXK5O",
        "outputId": "8a211351-5c58-4123-b4ff-4cb22b8bbd18"
      },
      "execution_count": 1,
      "outputs": [
        {
          "output_type": "stream",
          "name": "stdout",
          "text": [
            "\u001b[?25l   \u001b[90m━━━━━━━━━━━━━━━━━━━━━━━━━━━━━━━━━━━━━━━━\u001b[0m \u001b[32m0.0/116.9 kB\u001b[0m \u001b[31m?\u001b[0m eta \u001b[36m-:--:--\u001b[0m\r\u001b[2K   \u001b[90m━━━━━━━━━━━━━━━━━━━━━━━━━━━━━━━━━━━━━━━━\u001b[0m \u001b[32m116.9/116.9 kB\u001b[0m \u001b[31m7.4 MB/s\u001b[0m eta \u001b[36m0:00:00\u001b[0m\n",
            "\u001b[?25h\u001b[?25l   \u001b[90m━━━━━━━━━━━━━━━━━━━━━━━━━━━━━━━━━━━━━━━━\u001b[0m \u001b[32m0.0/129.3 kB\u001b[0m \u001b[31m?\u001b[0m eta \u001b[36m-:--:--\u001b[0m\r\u001b[2K   \u001b[90m━━━━━━━━━━━━━━━━━━━━━━━━━━━━━━━━━━━━━━━━\u001b[0m \u001b[32m129.3/129.3 kB\u001b[0m \u001b[31m9.4 MB/s\u001b[0m eta \u001b[36m0:00:00\u001b[0m\n",
            "\u001b[?25h\u001b[?25l   \u001b[90m━━━━━━━━━━━━━━━━━━━━━━━━━━━━━━━━━━━━━━━━\u001b[0m \u001b[32m0.0/100.4 kB\u001b[0m \u001b[31m?\u001b[0m eta \u001b[36m-:--:--\u001b[0m\r\u001b[2K   \u001b[90m━━━━━━━━━━━━━━━━━━━━━━━━━━━━━━━━━━━━━━━━\u001b[0m \u001b[32m100.4/100.4 kB\u001b[0m \u001b[31m6.2 MB/s\u001b[0m eta \u001b[36m0:00:00\u001b[0m\n",
            "\u001b[2K   \u001b[90m━━━━━━━━━━━━━━━━━━━━━━━━━━━━━━━━━━━━━━━━\u001b[0m \u001b[32m44.4/44.4 kB\u001b[0m \u001b[31m3.2 MB/s\u001b[0m eta \u001b[36m0:00:00\u001b[0m\n",
            "\u001b[2K   \u001b[90m━━━━━━━━━━━━━━━━━━━━━━━━━━━━━━━━━━━━━━━━\u001b[0m \u001b[32m72.0/72.0 kB\u001b[0m \u001b[31m5.7 MB/s\u001b[0m eta \u001b[36m0:00:00\u001b[0m\n",
            "\u001b[2K   \u001b[90m━━━━━━━━━━━━━━━━━━━━━━━━━━━━━━━━━━━━━━━━\u001b[0m \u001b[32m62.5/62.5 kB\u001b[0m \u001b[31m4.4 MB/s\u001b[0m eta \u001b[36m0:00:00\u001b[0m\n",
            "\u001b[?25h"
          ]
        }
      ]
    },
    {
      "cell_type": "code",
      "source": [
        "import nest_asyncio\n",
        "nest_asyncio.apply()"
      ],
      "metadata": {
        "id": "HvD9OexrMhsp"
      },
      "execution_count": 3,
      "outputs": []
    },
    {
      "cell_type": "markdown",
      "source": [
        "##Function Run Sync"
      ],
      "metadata": {
        "id": "zWQKV2bGMywe"
      }
    },
    {
      "cell_type": "code",
      "source": [
        "# from google.colab import userdata\n",
        "# GEMINI_API_KEY = userdata.get(\"GEMINI_API_KEY\")"
      ],
      "metadata": {
        "id": "Gh3ktDQfXQMF"
      },
      "execution_count": 2,
      "outputs": []
    },
    {
      "cell_type": "code",
      "source": [
        "from agents import Agent, Runner, AsyncOpenAI, OpenAIChatCompletionsModel\n",
        "from agents import set_default_openai_client, set_tracing_disabled\n",
        "from google.colab import userdata\n",
        "\n",
        "set_tracing_disabled(disabled=False)\n",
        "\n",
        "gemini_api_key = userdata.get(\"GEMINI_API_KEY\")\n",
        "# set_default_openai_client(AsyncOpanAI(api_key=gemini_api_key))\n",
        "\n",
        "\n",
        "external_client = AsyncOpenAI(\n",
        "    api_key = gemini_api_key,\n",
        "    base_url = \"https://generativelanguage.googleapis.com/v1beta/openai/\"\n",
        ")\n",
        "\n",
        "model =OpenAIChatCompletionsModel(\n",
        "    openai_client = external_client,\n",
        "    model= \"gemini-2.0-flash\"\n",
        ")"
      ],
      "metadata": {
        "id": "blYNDGgyXiEn"
      },
      "execution_count": 5,
      "outputs": []
    },
    {
      "cell_type": "code",
      "source": [
        "agent : Agent = Agent(name = \"Assistent\", model = model, instructions=\"You are a helpful Assistent\")\n",
        "\n",
        "result = Runner.run_sync(agent, \"what you says about agentic ai\")\n",
        "\n",
        "print(result.final_output)"
      ],
      "metadata": {
        "colab": {
          "base_uri": "https://localhost:8080/"
        },
        "id": "ZNeTG2NeJDUi",
        "outputId": "0d813fc3-8630-438a-f1cb-a7b63de523aa"
      },
      "execution_count": 8,
      "outputs": [
        {
          "output_type": "stream",
          "name": "stderr",
          "text": [
            "WARNING:openai.agents:OPENAI_API_KEY is not set, skipping trace export\n"
          ]
        },
        {
          "output_type": "stream",
          "name": "stdout",
          "text": [
            "Agentic AI is a really fascinating and rapidly evolving area of artificial intelligence. Here's a breakdown of what it is and some of the key things to consider:\n",
            "\n",
            "**What is Agentic AI?**\n",
            "\n",
            "At its core, agentic AI refers to AI systems that can:\n",
            "\n",
            "*   **Perceive:** Take in information from their environment (through sensors, data feeds, APIs, etc.).\n",
            "*   **Reason:** Process information, make inferences, and plan actions.\n",
            "*   **Act:** Execute actions in their environment (e.g., send emails, modify files, interact with other systems).\n",
            "*   **Learn:** Adapt and improve their performance over time based on experience and feedback.\n",
            "*   **Be Autonomous:** To some degree, operate independently to achieve specific goals.\n",
            "\n",
            "Essentially, agentic AI aims to create AI that isn't just reactive but proactive, capable of taking initiative and pursuing objectives without constant human supervision.\n",
            "\n",
            "**Key Characteristics of Agentic AI:**\n",
            "\n",
            "*   **Autonomy:** The ability to make decisions and take actions independently.\n",
            "*   **Goal-Orientedness:** Driven by specific objectives or tasks they are designed to accomplish.\n",
            "*   **Planning & Reasoning:** Capable of formulating plans, considering different strategies, and adapting to changing circumstances.\n",
            "*   **Learning & Adaptation:** Able to learn from their experiences and improve their performance over time.\n",
            "*   **Interaction:** Can interact with the real world, other systems, and potentially humans.\n",
            "*   **Memory:** Retain information about past experiences and use it to inform future actions.\n",
            "\n",
            "**Potential Applications:**\n",
            "\n",
            "Agentic AI has the potential to revolutionize many fields, including:\n",
            "\n",
            "*   **Automation:** Automating complex tasks and workflows in industries like manufacturing, logistics, and customer service.\n",
            "*   **Personal Assistants:** Creating more intelligent and helpful personal assistants that can manage schedules, handle communications, and proactively assist with tasks.\n",
            "*   **Scientific Discovery:** Assisting scientists with research by analyzing data, generating hypotheses, and designing experiments.\n",
            "*   **Robotics:** Developing more intelligent and autonomous robots for various applications, such as exploration, healthcare, and security.\n",
            "*   **Cybersecurity:** Enhancing cybersecurity by detecting and responding to threats more effectively.\n",
            "*   **Software Development:** Aid in writing code, test and find errors, and deploy software.\n",
            "\n",
            "**Important Considerations and Challenges:**\n",
            "\n",
            "*   **Safety:** Ensuring that agentic AI systems operate safely and do not cause harm. This is a major concern, especially as these systems become more autonomous.\n",
            "*   **Alignment:** Aligning the goals of agentic AI systems with human values and objectives.  It is crucial to ensure these agents are working *for* us, and not against us.\n",
            "*   **Transparency:** Making agentic AI systems more transparent and explainable. Understanding how these systems make decisions is important for building trust and accountability.\n",
            "*   **Control:** Maintaining control over agentic AI systems, even as they become more autonomous.\n",
            "*   **Bias:** Mitigating bias in the data and algorithms used to train agentic AI systems. Biased AI can perpetuate and amplify existing inequalities.\n",
            "*   **Security:** Protecting agentic AI systems from malicious attacks.  If compromised, an agent could be used for nefarious purposes.\n",
            "*   **Ethical Implications:** Addressing the ethical implications of agentic AI, such as its impact on employment and privacy.\n",
            "*   **Complexity:** These systems are complex and require significant computational resources and expertise to develop and maintain.\n",
            "\n",
            "**In Summary:**\n",
            "\n",
            "Agentic AI represents a significant leap forward in AI capabilities.  While it holds immense promise for solving complex problems and automating tasks, it also presents significant challenges related to safety, ethics, and control.  It's a field that requires careful consideration and responsible development.  The ongoing research and development in this area are incredibly exciting, and it will be fascinating to see how agentic AI shapes the future.\n",
            "\n"
          ]
        }
      ]
    }
  ]
}