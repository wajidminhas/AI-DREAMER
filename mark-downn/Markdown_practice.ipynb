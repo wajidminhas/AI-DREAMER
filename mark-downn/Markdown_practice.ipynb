{
  "nbformat": 4,
  "nbformat_minor": 0,
  "metadata": {
    "colab": {
      "provenance": [],
      "authorship_tag": "ABX9TyOFgW8x//mLcxJgS+QW8WOd",
      "include_colab_link": true
    },
    "kernelspec": {
      "name": "python3",
      "display_name": "Python 3"
    },
    "language_info": {
      "name": "python"
    }
  },
  "cells": [
    {
      "cell_type": "markdown",
      "metadata": {
        "id": "view-in-github",
        "colab_type": "text"
      },
      "source": [
        "<a href=\"https://colab.research.google.com/github/wajidminhas/AI-DREAMER/blob/main/mark-downn/Markdown_practice.ipynb\" target=\"_parent\"><img src=\"https://colab.research.google.com/assets/colab-badge.svg\" alt=\"Open In Colab\"/></a>"
      ]
    },
    {
      "cell_type": "markdown",
      "source": [
        "# HEADING"
      ],
      "metadata": {
        "id": "VMOdCeprT8L8"
      }
    },
    {
      "cell_type": "markdown",
      "source": [
        "# THIS IS HEADING LEVEL 1\n",
        "\n",
        "\n",
        "### THIS IS HEADING LEVEL 3\n",
        "\n",
        "###### THIS IS HEADING LEVEL 6\n",
        "\n"
      ],
      "metadata": {
        "id": "KBaaCpyuTgEB"
      }
    },
    {
      "cell_type": "markdown",
      "source": [
        "# ALTERNATE SYNTAX"
      ],
      "metadata": {
        "id": "atQAYw3qVOfQ"
      }
    },
    {
      "cell_type": "markdown",
      "source": [
        "THIS IS ALSO HEADING LEVEL 1 BY ADDING = SIGN\n",
        "==\n",
        "\n",
        "THIS IS HEADING LEVEL 2 BY ADDING SIGN OF  -- \"TWO MINUS SIGN\"\n",
        "--"
      ],
      "metadata": {
        "id": "mN-X0BczUORD"
      }
    },
    {
      "cell_type": "markdown",
      "source": [
        "# HEADING BEST PRACTICE"
      ],
      "metadata": {
        "id": "8a7mRrRWVTtl"
      }
    },
    {
      "cell_type": "markdown",
      "source": [
        "\n",
        "# Here's a Heading   \"# Here's a Heading, SPACE BETWEEN # AND WORD\"\n",
        "\n",
        "Try to put a blank line before...\n",
        "\n",
        "# Heading\n",
        "\n",
        "...and after a heading.\n",
        "\n",
        "Without blank lines, this might not look right.\n",
        "# Heading\n",
        "Don't do this!\n",
        "\n",
        "\n"
      ],
      "metadata": {
        "id": "i92dzRnAVmcA"
      }
    },
    {
      "cell_type": "markdown",
      "source": [
        "# Paragraph Best Practices\n",
        "\n",
        "    Don't put tabs or spaces in front of your paragraphs.\n",
        "    This can result in unexpected formatting problems.\n",
        "\n",
        "Keep lines left-aligned like this."
      ],
      "metadata": {
        "id": "KyUbqPKEXETp"
      }
    },
    {
      "cell_type": "markdown",
      "source": [
        "# Line Breaks\n",
        "\n",
        "To create a line break or new line (<br>),  end a line with two or more spaces, and then type return.\n",
        "\n",
        "This is the first line.   \n",
        "And this is the second line.  \n",
        "THIS IS THIRD LINE"
      ],
      "metadata": {
        "id": "RwB08exMXG6u"
      }
    },
    {
      "cell_type": "markdown",
      "source": [
        "## Emphasis  \n",
        "You can add emphasis by making text bold or italic.  \n",
        "\n",
        "I just love **bold text**.\n",
        "\n",
        "BY ADDING THREE STARIC SIGN IT WILL BOLD ITALIC  \n",
        "\n",
        "I JUST LOVE ***BOLD TEXT***\n",
        "\n",
        "IF YOU WANT TO BOLD ANY THING IN WORD USE THE STARIC SIGH BEFOR AND AFTER REQUIRED LETTER \"ELELE***PH***ENT\".  \n",
        "FOR ITALIC USE SING STARICE * SIGHN BEFOR AND AFTER WORKD  \n",
        "I JUST LOVE *ITALIC*"
      ],
      "metadata": {
        "id": "AGfq2JdRY5rR"
      }
    }
  ]
}