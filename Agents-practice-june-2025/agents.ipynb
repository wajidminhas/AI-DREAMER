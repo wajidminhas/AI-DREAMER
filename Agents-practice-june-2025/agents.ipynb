{
  "cells": [
    {
      "cell_type": "markdown",
      "metadata": {
        "id": "view-in-github",
        "colab_type": "text"
      },
      "source": [
        "<a href=\"https://colab.research.google.com/github/wajidminhas/AI-DREAMER/blob/main/Agents-practice-june-2025/agents.ipynb\" target=\"_parent\"><img src=\"https://colab.research.google.com/assets/colab-badge.svg\" alt=\"Open In Colab\"/></a>"
      ]
    },
    {
      "cell_type": "code",
      "source": [
        "!pip install -q  openai-agents"
      ],
      "metadata": {
        "collapsed": true,
        "id": "fpYNG_NDyXQr"
      },
      "execution_count": 4,
      "outputs": []
    },
    {
      "cell_type": "code",
      "source": [
        "from google.colab import userdata\n",
        "import nest_asyncio\n",
        "nest_asyncio.apply()\n",
        "\n",
        "gemini_api_key = userdata.get(\"GEMINI_API_KEY\")"
      ],
      "metadata": {
        "id": "X9Mg_GtmzBng"
      },
      "execution_count": 5,
      "outputs": []
    },
    {
      "cell_type": "markdown",
      "source": [],
      "metadata": {
        "id": "I1R8Bt-p7hTu"
      }
    },
    {
      "cell_type": "code",
      "source": [
        "from agents import Agent, Runner, OpenAIChatCompletionsModel, AsyncOpenAI, function_tool\n",
        "from agents.run import RunConfig\n",
        "import os\n",
        "from dataclasses import dataclass\n",
        "from typing import ClassVar\n",
        "\n",
        "@dataclass\n",
        "class Customer_info:\n",
        "  name: str\n",
        "  age: int\n",
        "  nationality : ClassVar[str] = \"pakistani\"\n",
        "\n",
        "\n",
        "@dataclass\n",
        "class Customer_info:\n",
        "  name: str\n",
        "  age: int\n",
        "  nationality : ClassVar[str] = \"pakistani\"\n",
        "@function_tool\n",
        "async def customer_data():\n",
        "\n",
        "  \"\"\"\n",
        "from dataclasses import dataclass, ClassVar\n",
        "\n",
        "@dataclass\n",
        "class Customer_info:\n",
        "  name: str\n",
        "  age: int\n",
        "  nationality : ClassVar[str] = \"pakistani\"\n",
        "\n",
        "async def customer_data():\n",
        "\n",
        "\n",
        "  give the details of customer on querry about customer information\n",
        "  \"\"\"\n",
        "  cust1 = Customer_info(name=\"wajid\", age=30)\n",
        "\n",
        "  return (f\"customer name is {cust1.name} and age is {cust1.age} and he is {Customer_info.nationality} \")\n",
        "\n",
        "\n",
        "\n",
        "provider = AsyncOpenAI(\n",
        "    api_key=gemini_api_key,\n",
        "    base_url = \"https://generativelanguage.googleapis.com/v1beta/openai/\"\n",
        ")\n",
        "\n",
        "\n",
        "model = OpenAIChatCompletionsModel(\n",
        "    model=\"gemini-1.5-flash\",\n",
        "    openai_client=provider\n",
        ")\n",
        "\n",
        "\n",
        "\n",
        "agent1 : Agent = Agent[Customer_info](\n",
        "    name = \"Shopping Mall Assistent\",\n",
        "    model = model,\n",
        "    instructions= \"You are a helpful assistant about customer, if neccessory call the tool \",\n",
        "    tools = [customer_data],\n",
        "    # tools=[get_south_asian_countries_and_capitals],\n",
        "    )\n",
        "\n",
        "run_config = RunConfig(\n",
        "        model=model,\n",
        "        model_provider=provider,\n",
        "        tracing_disabled=True,\n",
        "    )\n",
        "result = await Runner.run(\n",
        "       agent1,\n",
        "       \"is there any pakistani customer whose name is wajid in our shopping who did shop\",\n",
        ")\n",
        "\n",
        "print(result.final_output, end=\"\", flush=True)\n",
        "#     asyncio.run(main())"
      ],
      "outputs": [
        {
          "output_type": "stream",
          "name": "stderr",
          "text": [
            "WARNING:openai.agents:OPENAI_API_KEY is not set, skipping trace export\n"
          ]
        },
        {
          "output_type": "stream",
          "name": "stdout",
          "text": [
            "Yes, there is one Pakistani customer named Wajid in our shop who made a purchase.\n"
          ]
        }
      ],
      "execution_count": 11,
      "metadata": {
        "colab": {
          "base_uri": "https://localhost:8080/"
        },
        "id": "mlJWERLtyVTN",
        "outputId": "d9fa9327-1e50-4bdc-a5fb-6730efb37971"
      }
    },
    {
      "cell_type": "code",
      "source": [
        "from dataclasses import dataclass\n",
        "from typing import ClassVar\n",
        "@dataclass\n",
        "class Customer_info:\n",
        "  name: str\n",
        "  age: int\n",
        "  nationality : ClassVar[str] = \"pakistani\"\n",
        "\n",
        "async def customer_data():\n",
        "\n",
        "  \"\"\"\n",
        "from dataclasses import dataclass, ClassVar\n",
        "\n",
        "@dataclass\n",
        "class Customer_info:\n",
        "  name: str\n",
        "  age: int\n",
        "  nationality : ClassVar[str] = \"pakistani\"\n",
        "\n",
        "async def customer_data():\n",
        "\n",
        "\n",
        "  give the details of customer on querry about customer information\n",
        "  \"\"\"\n",
        "  cust1 = Customer_info(name=\"wajid\", age=30)\n",
        "\n",
        "  return (f\"customer name is {cust1.name} and age is {cust1.age} and he is {Customer_info.nationality} \")\n",
        "\n",
        "print(await customer_data())\n"
      ],
      "metadata": {
        "colab": {
          "base_uri": "https://localhost:8080/"
        },
        "id": "_GKRQ_rE2GzA",
        "outputId": "1a4268f9-8f82-4c5d-cfb5-7fbc4e735aef"
      },
      "execution_count": 7,
      "outputs": [
        {
          "output_type": "stream",
          "name": "stdout",
          "text": [
            "customer name is wajid and age is 30 and he is pakistani \n"
          ]
        }
      ]
    }
  ],
  "metadata": {
    "colab": {
      "provenance": [],
      "include_colab_link": true
    },
    "kernelspec": {
      "display_name": "Python 3",
      "name": "python3"
    }
  },
  "nbformat": 4,
  "nbformat_minor": 0
}