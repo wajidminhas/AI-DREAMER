{
  "nbformat": 4,
  "nbformat_minor": 0,
  "metadata": {
    "colab": {
      "provenance": [],
      "authorship_tag": "ABX9TyNKVxC1iFyHh60MnbA6rEgo",
      "include_colab_link": true
    },
    "kernelspec": {
      "name": "python3",
      "display_name": "Python 3"
    },
    "language_info": {
      "name": "python"
    }
  },
  "cells": [
    {
      "cell_type": "markdown",
      "metadata": {
        "id": "view-in-github",
        "colab_type": "text"
      },
      "source": [
        "<a href=\"https://colab.research.google.com/github/wajidminhas/AI-DREAMER/blob/main/panacloud_agent_sdk.ipynb\" target=\"_parent\"><img src=\"https://colab.research.google.com/assets/colab-badge.svg\" alt=\"Open In Colab\"/></a>"
      ]
    },
    {
      "cell_type": "code",
      "execution_count": 1,
      "metadata": {
        "colab": {
          "base_uri": "https://localhost:8080/"
        },
        "id": "6mFBtbNIE983",
        "outputId": "40504e78-d19a-48e2-d08b-eb46422466b1"
      },
      "outputs": [
        {
          "output_type": "stream",
          "name": "stdout",
          "text": [
            "\u001b[?25l   \u001b[90m━━━━━━━━━━━━━━━━━━━━━━━━━━━━━━━━━━━━━━━━\u001b[0m \u001b[32m0.0/117.2 kB\u001b[0m \u001b[31m?\u001b[0m eta \u001b[36m-:--:--\u001b[0m\r\u001b[2K   \u001b[90m━━━━━━━━━━━━━━━━━━━━━━━━━━━━━━━━━━━━━━━━\u001b[0m \u001b[32m117.2/117.2 kB\u001b[0m \u001b[31m4.3 MB/s\u001b[0m eta \u001b[36m0:00:00\u001b[0m\n",
            "\u001b[?25h\u001b[?25l   \u001b[90m━━━━━━━━━━━━━━━━━━━━━━━━━━━━━━━━━━━━━━━━\u001b[0m \u001b[32m0.0/129.3 kB\u001b[0m \u001b[31m?\u001b[0m eta \u001b[36m-:--:--\u001b[0m\r\u001b[2K   \u001b[90m━━━━━━━━━━━━━━━━━━━━━━━━━━━━━━━━━━━━━━━━\u001b[0m \u001b[32m129.3/129.3 kB\u001b[0m \u001b[31m7.3 MB/s\u001b[0m eta \u001b[36m0:00:00\u001b[0m\n",
            "\u001b[2K   \u001b[90m━━━━━━━━━━━━━━━━━━━━━━━━━━━━━━━━━━━━━━━━\u001b[0m \u001b[32m125.1/125.1 kB\u001b[0m \u001b[31m6.7 MB/s\u001b[0m eta \u001b[36m0:00:00\u001b[0m\n",
            "\u001b[2K   \u001b[90m━━━━━━━━━━━━━━━━━━━━━━━━━━━━━━━━━━━━━━━━\u001b[0m \u001b[32m44.4/44.4 kB\u001b[0m \u001b[31m2.4 MB/s\u001b[0m eta \u001b[36m0:00:00\u001b[0m\n",
            "\u001b[2K   \u001b[90m━━━━━━━━━━━━━━━━━━━━━━━━━━━━━━━━━━━━━━━━\u001b[0m \u001b[32m72.0/72.0 kB\u001b[0m \u001b[31m2.0 MB/s\u001b[0m eta \u001b[36m0:00:00\u001b[0m\n",
            "\u001b[2K   \u001b[90m━━━━━━━━━━━━━━━━━━━━━━━━━━━━━━━━━━━━━━━━\u001b[0m \u001b[32m62.5/62.5 kB\u001b[0m \u001b[31m2.8 MB/s\u001b[0m eta \u001b[36m0:00:00\u001b[0m\n",
            "\u001b[?25h"
          ]
        }
      ],
      "source": [
        "!pip install -q openai-agents"
      ]
    },
    {
      "cell_type": "code",
      "source": [
        "import nest_asyncio\n",
        "nest_asyncio.apply()"
      ],
      "metadata": {
        "id": "cMWEe1_gFbBU"
      },
      "execution_count": 2,
      "outputs": []
    },
    {
      "cell_type": "code",
      "source": [
        "from google.colab import userdata\n",
        "gemini_api_key = userdata.get('GEMINI_API_KEY')"
      ],
      "metadata": {
        "id": "L8wQqMFbHtCq"
      },
      "execution_count": 5,
      "outputs": []
    },
    {
      "cell_type": "code",
      "source": [
        "from agents import Agent, Runner, set_tracing_disabled, set_default_openai_api, AsyncOpenAI, set_default_openai_client\n",
        "\n",
        "set_tracing_disabled(True)\n",
        "set_default_openai_api('chat_completions')\n",
        "\n",
        "external_client = AsyncOpenAI(\n",
        "    api_key= gemini_api_key,\n",
        "    base_url = \"https://generativelanguage.googleapis.com/v1beta/openai/\"\n",
        ")\n",
        "\n",
        "set_default_openai_client(external_client)\n",
        "\n",
        "\n",
        "agent : Agent = Agent(name=\"Assistent\",\n",
        "                      instructions=\"You are a helpfull Assitent\",\n",
        "                      model= \"gemini-2.0-flash\")\n",
        "\n",
        "result = Runner.run_sync(agent, \"what is Dapr, eleborate in five lines\")\n",
        "\n",
        "print(result.final_output, end=\"\")\n",
        "\n"
      ],
      "metadata": {
        "colab": {
          "base_uri": "https://localhost:8080/"
        },
        "id": "rUHaIjXRM-Sg",
        "outputId": "b1e48158-a414-47ce-ce38-402cd8422c0a"
      },
      "execution_count": 22,
      "outputs": [
        {
          "output_type": "stream",
          "name": "stdout",
          "text": [
            "Dapr (Distributed Application Runtime) is an open-source, portable runtime that simplifies building microservices and cloud-native applications. It provides a set of building blocks (like service invocation, state management, pub/sub) accessed via standard APIs, regardless of the language or framework you use. This allows developers to focus on business logic, not distributed system complexities. Dapr can run on various environments, from local machines to Kubernetes clusters, promoting portability. Ultimately, Dapr aims to accelerate development, improve reliability, and ensure consistency across applications.\n"
          ]
        }
      ]
    },
    {
      "cell_type": "markdown",
      "source": [
        "# here we start our panacloud task for building agent and it's tool"
      ],
      "metadata": {
        "id": "P3cPhZkDQakH"
      }
    },
    {
      "cell_type": "code",
      "source": [
        "from agents import enable_verbose_stdout_logging\n",
        "\n",
        "enable_verbose_stdout_logging()\n",
        "\n",
        "from agents import Agent, Runner, set_tracing_disabled, set_default_openai_api, AsyncOpenAI, set_default_openai_client\n",
        "\n",
        "set_tracing_disabled(True)\n",
        "set_default_openai_api('chat_completions')\n",
        "\n",
        "external_client = AsyncOpenAI(\n",
        "    api_key= gemini_api_key,\n",
        "    base_url = \"https://generativelanguage.googleapis.com/v1beta/openai/\"\n",
        ")\n",
        "\n",
        "set_default_openai_client(external_client)\n",
        "\n",
        "\n",
        "agent : Agent = Agent(name=\"Assistent\",\n",
        "                      instructions=\"You are a helpfull Assitent\",\n",
        "                      model= \"gemini-2.0-flash\")\n",
        "\n",
        "webdev : Agent = Agent(name=  'web developement Assistent',\n",
        "                       instructions= 'you will answer about webdevelopement quries.',\n",
        "                       handoffs= ['webdev', 'web developement'],\n",
        "                       )\n",
        "\n",
        "mobile_dev : Agent = Agent(name= 'mobile developement Assistent',\n",
        "                       instructions= 'you will answer about mobiledevelopement quries.',\n",
        "                       handoffs= ['mobiledev', 'mobile developement'],\n",
        "                       )\n",
        "\n",
        "agentic_ai : Agent = Agent(name= 'agentic AI Assistent',\n",
        "                       instructions= 'you will answer about AI quries.',\n",
        "                       handoffs= ['agentic', 'AI'],\n",
        "                       )\n",
        "\n",
        "\n",
        "panacloud_agent :Agent = Agent(name= ['panacloud', 'triage_agent'],\n",
        "                               instructions=\"you will answer general quries if talk about any tech news regarding mobile development, web developement or agentic ai or ai you will handoffs to agents\",\n",
        "                               model= 'gemini-2.0-flash',\n",
        "                               handoffs=[webdev, mobile_dev, agentic_ai])\n",
        "\n",
        "result = Runner.run_sync(panacloud_agent, \"hi\")\n",
        "\n",
        "print(result.final_output)\n"
      ],
      "metadata": {
        "colab": {
          "base_uri": "https://localhost:8080/"
        },
        "id": "ALhjGcw-QH3O",
        "outputId": "3b26fe51-6d48-40c3-f772-ce06c9bcd4d6"
      },
      "execution_count": 26,
      "outputs": [
        {
          "output_type": "stream",
          "name": "stdout",
          "text": [
            "Tracing is disabled. Not creating trace Agent workflow\n",
            "Tracing is disabled. Not creating trace Agent workflow\n",
            "Tracing is disabled. Not creating trace Agent workflow\n",
            "Tracing is disabled. Not creating trace Agent workflow\n"
          ]
        },
        {
          "output_type": "stream",
          "name": "stderr",
          "text": [
            "DEBUG:openai.agents:Tracing is disabled. Not creating trace Agent workflow\n"
          ]
        },
        {
          "output_type": "stream",
          "name": "stdout",
          "text": [
            "Setting current trace: no-op\n",
            "Setting current trace: no-op\n",
            "Setting current trace: no-op\n",
            "Setting current trace: no-op\n"
          ]
        },
        {
          "output_type": "stream",
          "name": "stderr",
          "text": [
            "DEBUG:openai.agents:Setting current trace: no-op\n"
          ]
        },
        {
          "output_type": "stream",
          "name": "stdout",
          "text": [
            "Tracing is disabled. Not creating span <agents.tracing.span_data.AgentSpanData object at 0x7d8d0bb1b650>\n",
            "Tracing is disabled. Not creating span <agents.tracing.span_data.AgentSpanData object at 0x7d8d0bb1b650>\n",
            "Tracing is disabled. Not creating span <agents.tracing.span_data.AgentSpanData object at 0x7d8d0bb1b650>\n",
            "Tracing is disabled. Not creating span <agents.tracing.span_data.AgentSpanData object at 0x7d8d0bb1b650>\n"
          ]
        },
        {
          "output_type": "stream",
          "name": "stderr",
          "text": [
            "DEBUG:openai.agents:Tracing is disabled. Not creating span <agents.tracing.span_data.AgentSpanData object at 0x7d8d0bb1b650>\n"
          ]
        },
        {
          "output_type": "stream",
          "name": "stdout",
          "text": [
            "Running agent ['panacloud', 'triage_agent'] (turn 1)\n",
            "Running agent ['panacloud', 'triage_agent'] (turn 1)\n",
            "Running agent ['panacloud', 'triage_agent'] (turn 1)\n",
            "Running agent ['panacloud', 'triage_agent'] (turn 1)\n"
          ]
        },
        {
          "output_type": "stream",
          "name": "stderr",
          "text": [
            "DEBUG:openai.agents:Running agent ['panacloud', 'triage_agent'] (turn 1)\n"
          ]
        },
        {
          "output_type": "stream",
          "name": "stdout",
          "text": [
            "Tracing is disabled. Not creating span <agents.tracing.span_data.GenerationSpanData object at 0x7d8d0bb1b3b0>\n",
            "Tracing is disabled. Not creating span <agents.tracing.span_data.GenerationSpanData object at 0x7d8d0bb1b3b0>\n",
            "Tracing is disabled. Not creating span <agents.tracing.span_data.GenerationSpanData object at 0x7d8d0bb1b3b0>\n",
            "Tracing is disabled. Not creating span <agents.tracing.span_data.GenerationSpanData object at 0x7d8d0bb1b3b0>\n"
          ]
        },
        {
          "output_type": "stream",
          "name": "stderr",
          "text": [
            "DEBUG:openai.agents:Tracing is disabled. Not creating span <agents.tracing.span_data.GenerationSpanData object at 0x7d8d0bb1b3b0>\n"
          ]
        },
        {
          "output_type": "stream",
          "name": "stdout",
          "text": [
            "[\n",
            "  {\n",
            "    \"content\": \"you will answer general quries if talk about any tech news regarding mobile development, web developement or agentic ai or ai you will handoffs to agents\",\n",
            "    \"role\": \"system\"\n",
            "  },\n",
            "  {\n",
            "    \"role\": \"user\",\n",
            "    \"content\": \"hi\"\n",
            "  }\n",
            "]\n",
            "Tools:\n",
            "[\n",
            "  {\n",
            "    \"type\": \"function\",\n",
            "    \"function\": {\n",
            "      \"name\": \"transfer_to_web_developement_assistent\",\n",
            "      \"description\": \"Handoff to the web developement Assistent agent to handle the request. \",\n",
            "      \"parameters\": {\n",
            "        \"additionalProperties\": false,\n",
            "        \"type\": \"object\",\n",
            "        \"properties\": {},\n",
            "        \"required\": []\n",
            "      }\n",
            "    }\n",
            "  },\n",
            "  {\n",
            "    \"type\": \"function\",\n",
            "    \"function\": {\n",
            "      \"name\": \"transfer_to_mobile_developement_assistent\",\n",
            "      \"description\": \"Handoff to the mobile developement Assistent agent to handle the request. \",\n",
            "      \"parameters\": {\n",
            "        \"additionalProperties\": false,\n",
            "        \"type\": \"object\",\n",
            "        \"properties\": {},\n",
            "        \"required\": []\n",
            "      }\n",
            "    }\n",
            "  },\n",
            "  {\n",
            "    \"type\": \"function\",\n",
            "    \"function\": {\n",
            "      \"name\": \"transfer_to_agentic_ai_assistent\",\n",
            "      \"description\": \"Handoff to the agentic AI Assistent agent to handle the request. \",\n",
            "      \"parameters\": {\n",
            "        \"additionalProperties\": false,\n",
            "        \"type\": \"object\",\n",
            "        \"properties\": {},\n",
            "        \"required\": []\n",
            "      }\n",
            "    }\n",
            "  }\n",
            "]\n",
            "Stream: False\n",
            "Tool choice: NOT_GIVEN\n",
            "Response format: NOT_GIVEN\n",
            "\n",
            "[\n",
            "  {\n",
            "    \"content\": \"you will answer general quries if talk about any tech news regarding mobile development, web developement or agentic ai or ai you will handoffs to agents\",\n",
            "    \"role\": \"system\"\n",
            "  },\n",
            "  {\n",
            "    \"role\": \"user\",\n",
            "    \"content\": \"hi\"\n",
            "  }\n",
            "]\n",
            "Tools:\n",
            "[\n",
            "  {\n",
            "    \"type\": \"function\",\n",
            "    \"function\": {\n",
            "      \"name\": \"transfer_to_web_developement_assistent\",\n",
            "      \"description\": \"Handoff to the web developement Assistent agent to handle the request. \",\n",
            "      \"parameters\": {\n",
            "        \"additionalProperties\": false,\n",
            "        \"type\": \"object\",\n",
            "        \"properties\": {},\n",
            "        \"required\": []\n",
            "      }\n",
            "    }\n",
            "  },\n",
            "  {\n",
            "    \"type\": \"function\",\n",
            "    \"function\": {\n",
            "      \"name\": \"transfer_to_mobile_developement_assistent\",\n",
            "      \"description\": \"Handoff to the mobile developement Assistent agent to handle the request. \",\n",
            "      \"parameters\": {\n",
            "        \"additionalProperties\": false,\n",
            "        \"type\": \"object\",\n",
            "        \"properties\": {},\n",
            "        \"required\": []\n",
            "      }\n",
            "    }\n",
            "  },\n",
            "  {\n",
            "    \"type\": \"function\",\n",
            "    \"function\": {\n",
            "      \"name\": \"transfer_to_agentic_ai_assistent\",\n",
            "      \"description\": \"Handoff to the agentic AI Assistent agent to handle the request. \",\n",
            "      \"parameters\": {\n",
            "        \"additionalProperties\": false,\n",
            "        \"type\": \"object\",\n",
            "        \"properties\": {},\n",
            "        \"required\": []\n",
            "      }\n",
            "    }\n",
            "  }\n",
            "]\n",
            "Stream: False\n",
            "Tool choice: NOT_GIVEN\n",
            "Response format: NOT_GIVEN\n",
            "\n",
            "[\n",
            "  {\n",
            "    \"content\": \"you will answer general quries if talk about any tech news regarding mobile development, web developement or agentic ai or ai you will handoffs to agents\",\n",
            "    \"role\": \"system\"\n",
            "  },\n",
            "  {\n",
            "    \"role\": \"user\",\n",
            "    \"content\": \"hi\"\n",
            "  }\n",
            "]\n",
            "Tools:\n",
            "[\n",
            "  {\n",
            "    \"type\": \"function\",\n",
            "    \"function\": {\n",
            "      \"name\": \"transfer_to_web_developement_assistent\",\n",
            "      \"description\": \"Handoff to the web developement Assistent agent to handle the request. \",\n",
            "      \"parameters\": {\n",
            "        \"additionalProperties\": false,\n",
            "        \"type\": \"object\",\n",
            "        \"properties\": {},\n",
            "        \"required\": []\n",
            "      }\n",
            "    }\n",
            "  },\n",
            "  {\n",
            "    \"type\": \"function\",\n",
            "    \"function\": {\n",
            "      \"name\": \"transfer_to_mobile_developement_assistent\",\n",
            "      \"description\": \"Handoff to the mobile developement Assistent agent to handle the request. \",\n",
            "      \"parameters\": {\n",
            "        \"additionalProperties\": false,\n",
            "        \"type\": \"object\",\n",
            "        \"properties\": {},\n",
            "        \"required\": []\n",
            "      }\n",
            "    }\n",
            "  },\n",
            "  {\n",
            "    \"type\": \"function\",\n",
            "    \"function\": {\n",
            "      \"name\": \"transfer_to_agentic_ai_assistent\",\n",
            "      \"description\": \"Handoff to the agentic AI Assistent agent to handle the request. \",\n",
            "      \"parameters\": {\n",
            "        \"additionalProperties\": false,\n",
            "        \"type\": \"object\",\n",
            "        \"properties\": {},\n",
            "        \"required\": []\n",
            "      }\n",
            "    }\n",
            "  }\n",
            "]\n",
            "Stream: False\n",
            "Tool choice: NOT_GIVEN\n",
            "Response format: NOT_GIVEN\n",
            "\n",
            "[\n",
            "  {\n",
            "    \"content\": \"you will answer general quries if talk about any tech news regarding mobile development, web developement or agentic ai or ai you will handoffs to agents\",\n",
            "    \"role\": \"system\"\n",
            "  },\n",
            "  {\n",
            "    \"role\": \"user\",\n",
            "    \"content\": \"hi\"\n",
            "  }\n",
            "]\n",
            "Tools:\n",
            "[\n",
            "  {\n",
            "    \"type\": \"function\",\n",
            "    \"function\": {\n",
            "      \"name\": \"transfer_to_web_developement_assistent\",\n",
            "      \"description\": \"Handoff to the web developement Assistent agent to handle the request. \",\n",
            "      \"parameters\": {\n",
            "        \"additionalProperties\": false,\n",
            "        \"type\": \"object\",\n",
            "        \"properties\": {},\n",
            "        \"required\": []\n",
            "      }\n",
            "    }\n",
            "  },\n",
            "  {\n",
            "    \"type\": \"function\",\n",
            "    \"function\": {\n",
            "      \"name\": \"transfer_to_mobile_developement_assistent\",\n",
            "      \"description\": \"Handoff to the mobile developement Assistent agent to handle the request. \",\n",
            "      \"parameters\": {\n",
            "        \"additionalProperties\": false,\n",
            "        \"type\": \"object\",\n",
            "        \"properties\": {},\n",
            "        \"required\": []\n",
            "      }\n",
            "    }\n",
            "  },\n",
            "  {\n",
            "    \"type\": \"function\",\n",
            "    \"function\": {\n",
            "      \"name\": \"transfer_to_agentic_ai_assistent\",\n",
            "      \"description\": \"Handoff to the agentic AI Assistent agent to handle the request. \",\n",
            "      \"parameters\": {\n",
            "        \"additionalProperties\": false,\n",
            "        \"type\": \"object\",\n",
            "        \"properties\": {},\n",
            "        \"required\": []\n",
            "      }\n",
            "    }\n",
            "  }\n",
            "]\n",
            "Stream: False\n",
            "Tool choice: NOT_GIVEN\n",
            "Response format: NOT_GIVEN\n",
            "\n"
          ]
        },
        {
          "output_type": "stream",
          "name": "stderr",
          "text": [
            "DEBUG:openai.agents:[\n",
            "  {\n",
            "    \"content\": \"you will answer general quries if talk about any tech news regarding mobile development, web developement or agentic ai or ai you will handoffs to agents\",\n",
            "    \"role\": \"system\"\n",
            "  },\n",
            "  {\n",
            "    \"role\": \"user\",\n",
            "    \"content\": \"hi\"\n",
            "  }\n",
            "]\n",
            "Tools:\n",
            "[\n",
            "  {\n",
            "    \"type\": \"function\",\n",
            "    \"function\": {\n",
            "      \"name\": \"transfer_to_web_developement_assistent\",\n",
            "      \"description\": \"Handoff to the web developement Assistent agent to handle the request. \",\n",
            "      \"parameters\": {\n",
            "        \"additionalProperties\": false,\n",
            "        \"type\": \"object\",\n",
            "        \"properties\": {},\n",
            "        \"required\": []\n",
            "      }\n",
            "    }\n",
            "  },\n",
            "  {\n",
            "    \"type\": \"function\",\n",
            "    \"function\": {\n",
            "      \"name\": \"transfer_to_mobile_developement_assistent\",\n",
            "      \"description\": \"Handoff to the mobile developement Assistent agent to handle the request. \",\n",
            "      \"parameters\": {\n",
            "        \"additionalProperties\": false,\n",
            "        \"type\": \"object\",\n",
            "        \"properties\": {},\n",
            "        \"required\": []\n",
            "      }\n",
            "    }\n",
            "  },\n",
            "  {\n",
            "    \"type\": \"function\",\n",
            "    \"function\": {\n",
            "      \"name\": \"transfer_to_agentic_ai_assistent\",\n",
            "      \"description\": \"Handoff to the agentic AI Assistent agent to handle the request. \",\n",
            "      \"parameters\": {\n",
            "        \"additionalProperties\": false,\n",
            "        \"type\": \"object\",\n",
            "        \"properties\": {},\n",
            "        \"required\": []\n",
            "      }\n",
            "    }\n",
            "  }\n",
            "]\n",
            "Stream: False\n",
            "Tool choice: NOT_GIVEN\n",
            "Response format: NOT_GIVEN\n",
            "\n"
          ]
        },
        {
          "output_type": "stream",
          "name": "stdout",
          "text": [
            "LLM resp:\n",
            "{\n",
            "  \"content\": \"Hi there! How can I help you today?\\n\",\n",
            "  \"refusal\": null,\n",
            "  \"role\": \"assistant\",\n",
            "  \"annotations\": null,\n",
            "  \"audio\": null,\n",
            "  \"function_call\": null,\n",
            "  \"tool_calls\": null\n",
            "}\n",
            "\n",
            "LLM resp:\n",
            "{\n",
            "  \"content\": \"Hi there! How can I help you today?\\n\",\n",
            "  \"refusal\": null,\n",
            "  \"role\": \"assistant\",\n",
            "  \"annotations\": null,\n",
            "  \"audio\": null,\n",
            "  \"function_call\": null,\n",
            "  \"tool_calls\": null\n",
            "}\n",
            "\n",
            "LLM resp:\n",
            "{\n",
            "  \"content\": \"Hi there! How can I help you today?\\n\",\n",
            "  \"refusal\": null,\n",
            "  \"role\": \"assistant\",\n",
            "  \"annotations\": null,\n",
            "  \"audio\": null,\n",
            "  \"function_call\": null,\n",
            "  \"tool_calls\": null\n",
            "}\n",
            "\n",
            "LLM resp:\n",
            "{\n",
            "  \"content\": \"Hi there! How can I help you today?\\n\",\n",
            "  \"refusal\": null,\n",
            "  \"role\": \"assistant\",\n",
            "  \"annotations\": null,\n",
            "  \"audio\": null,\n",
            "  \"function_call\": null,\n",
            "  \"tool_calls\": null\n",
            "}\n",
            "\n"
          ]
        },
        {
          "output_type": "stream",
          "name": "stderr",
          "text": [
            "DEBUG:openai.agents:LLM resp:\n",
            "{\n",
            "  \"content\": \"Hi there! How can I help you today?\\n\",\n",
            "  \"refusal\": null,\n",
            "  \"role\": \"assistant\",\n",
            "  \"annotations\": null,\n",
            "  \"audio\": null,\n",
            "  \"function_call\": null,\n",
            "  \"tool_calls\": null\n",
            "}\n",
            "\n"
          ]
        },
        {
          "output_type": "stream",
          "name": "stdout",
          "text": [
            "Resetting current trace\n",
            "Resetting current trace\n",
            "Resetting current trace\n",
            "Resetting current trace\n"
          ]
        },
        {
          "output_type": "stream",
          "name": "stderr",
          "text": [
            "DEBUG:openai.agents:Resetting current trace\n"
          ]
        },
        {
          "output_type": "stream",
          "name": "stdout",
          "text": [
            "Hi there! How can I help you today?\n",
            "\n"
          ]
        }
      ]
    },
    {
      "cell_type": "code",
      "source": [
        "result.last_agent.name"
      ],
      "metadata": {
        "colab": {
          "base_uri": "https://localhost:8080/"
        },
        "id": "1R2NSSgTUYXR",
        "outputId": "015c8a79-831b-41bd-d54e-e8efd498b427"
      },
      "execution_count": 27,
      "outputs": [
        {
          "output_type": "execute_result",
          "data": {
            "text/plain": [
              "['panacloud', 'triage_agent']"
            ]
          },
          "metadata": {},
          "execution_count": 27
        }
      ]
    },
    {
      "cell_type": "code",
      "source": [],
      "metadata": {
        "id": "RIbT-B0cXFsQ"
      },
      "execution_count": null,
      "outputs": []
    }
  ]
}