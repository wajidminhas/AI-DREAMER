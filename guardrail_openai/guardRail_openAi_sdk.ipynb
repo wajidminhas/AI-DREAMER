{
  "nbformat": 4,
  "nbformat_minor": 0,
  "metadata": {
    "colab": {
      "provenance": [],
      "authorship_tag": "ABX9TyPr09f3iSOQt1wE0gYqzrOo",
      "include_colab_link": true
    },
    "kernelspec": {
      "name": "python3",
      "display_name": "Python 3"
    },
    "language_info": {
      "name": "python"
    }
  },
  "cells": [
    {
      "cell_type": "markdown",
      "metadata": {
        "id": "view-in-github",
        "colab_type": "text"
      },
      "source": [
        "<a href=\"https://colab.research.google.com/github/wajidminhas/AI-DREAMER/blob/main/guardrail_openai/guardRail_openAi_sdk.ipynb\" target=\"_parent\"><img src=\"https://colab.research.google.com/assets/colab-badge.svg\" alt=\"Open In Colab\"/></a>"
      ]
    },
    {
      "cell_type": "code",
      "execution_count": 2,
      "metadata": {
        "colab": {
          "base_uri": "https://localhost:8080/"
        },
        "id": "1QfoJa5NYWhF",
        "outputId": "72df2193-3237-4d7b-e530-1f0b0f1c60ef"
      },
      "outputs": [
        {
          "output_type": "stream",
          "name": "stdout",
          "text": [
            "\u001b[?25l   \u001b[90m━━━━━━━━━━━━━━━━━━━━━━━━━━━━━━━━━━━━━━━━\u001b[0m \u001b[32m0.0/120.2 kB\u001b[0m \u001b[31m?\u001b[0m eta \u001b[36m-:--:--\u001b[0m\r\u001b[2K   \u001b[90m━━━━━━━━━━━━━━━━━━━━━━━━━━━━━━━━━━━━━━━━\u001b[0m \u001b[32m120.2/120.2 kB\u001b[0m \u001b[31m8.4 MB/s\u001b[0m eta \u001b[36m0:00:00\u001b[0m\n",
            "\u001b[?25h\u001b[?25l   \u001b[90m━━━━━━━━━━━━━━━━━━━━━━━━━━━━━━━━━━━━━━━━\u001b[0m \u001b[32m0.0/129.3 kB\u001b[0m \u001b[31m?\u001b[0m eta \u001b[36m-:--:--\u001b[0m\r\u001b[2K   \u001b[90m━━━━━━━━━━━━━━━━━━━━━━━━━━━━━━━━━━━━━━━━\u001b[0m \u001b[32m129.3/129.3 kB\u001b[0m \u001b[31m9.6 MB/s\u001b[0m eta \u001b[36m0:00:00\u001b[0m\n",
            "\u001b[?25h\u001b[?25l   \u001b[90m━━━━━━━━━━━━━━━━━━━━━━━━━━━━━━━━━━━━━━━━\u001b[0m \u001b[32m0.0/131.1 kB\u001b[0m \u001b[31m?\u001b[0m eta \u001b[36m-:--:--\u001b[0m\r\u001b[2K   \u001b[90m━━━━━━━━━━━━━━━━━━━━━━━━━━━━━━━━━━━━━━━━\u001b[0m \u001b[32m131.1/131.1 kB\u001b[0m \u001b[31m10.4 MB/s\u001b[0m eta \u001b[36m0:00:00\u001b[0m\n",
            "\u001b[2K   \u001b[90m━━━━━━━━━━━━━━━━━━━━━━━━━━━━━━━━━━━━━━━━\u001b[0m \u001b[32m44.4/44.4 kB\u001b[0m \u001b[31m3.2 MB/s\u001b[0m eta \u001b[36m0:00:00\u001b[0m\n",
            "\u001b[2K   \u001b[90m━━━━━━━━━━━━━━━━━━━━━━━━━━━━━━━━━━━━━━━━\u001b[0m \u001b[32m72.8/72.8 kB\u001b[0m \u001b[31m5.2 MB/s\u001b[0m eta \u001b[36m0:00:00\u001b[0m\n",
            "\u001b[2K   \u001b[90m━━━━━━━━━━━━━━━━━━━━━━━━━━━━━━━━━━━━━━━━\u001b[0m \u001b[32m62.4/62.4 kB\u001b[0m \u001b[31m4.6 MB/s\u001b[0m eta \u001b[36m0:00:00\u001b[0m\n",
            "\u001b[?25h"
          ]
        }
      ],
      "source": [
        "!pip install -q openai-agents\n"
      ]
    },
    {
      "cell_type": "code",
      "source": [
        "import nest_asyncio\n",
        "nest_asyncio.apply()"
      ],
      "metadata": {
        "id": "r14mewK2Ysx7"
      },
      "execution_count": 3,
      "outputs": []
    },
    {
      "cell_type": "code",
      "source": [
        "from google.colab import userdata\n",
        "\n",
        "gemini_api_key = userdata.get(\"GEMINI_API_KEY\")"
      ],
      "metadata": {
        "id": "d7t3zrO0Ywtv"
      },
      "execution_count": 4,
      "outputs": []
    },
    {
      "cell_type": "code",
      "source": [
        "from agents import AsyncOpenAI, OpenAIChatCompletionsModel, RunConfig\n",
        "\n",
        "\n",
        "external_client = AsyncOpenAI(\n",
        "     api_key = gemini_api_key,\n",
        "     base_url = \"https://generativelanguage.googleapis.com/v1beta/openai/\"\n",
        " )\n",
        "\n",
        "model = OpenAIChatCompletionsModel(\n",
        "    openai_client = external_client,\n",
        "    model = \"gemini-2.0-flash\"\n",
        ")\n",
        "\n",
        "config = RunConfig(\n",
        "    model = model,\n",
        "    model_provider = external_client,\n",
        "    tracing_disabled = True\n",
        ")"
      ],
      "metadata": {
        "id": "I9dH83j2Y8ug"
      },
      "execution_count": 5,
      "outputs": []
    },
    {
      "cell_type": "markdown",
      "source": [
        "#here we test guardRail functionality/tool"
      ],
      "metadata": {
        "id": "sQCFWlAxjlNT"
      }
    },
    {
      "cell_type": "code",
      "source": [
        "from pydantic import BaseModel\n",
        "from agents import Agent, Tool, Runner\n",
        "\n",
        "class DoctorHosiptal(BaseModel):\n",
        "    is_doctor_avail : bool\n",
        "    doctor_name : str\n",
        "    doctor_speciality : str\n",
        "    reasoning : str\n",
        "    answer : str\n",
        "\n",
        "\n",
        "guardrail_Doctor_agent: Agent = Agent(\n",
        "    name = \"GuardRail Check\",\n",
        "    instructions= \"check if user is asking about doctor,\",\n",
        "    # model = model,\n",
        "    output_type=DoctorHosiptal\n",
        ")\n"
      ],
      "metadata": {
        "id": "WauWgbgxjyi2"
      },
      "execution_count": 6,
      "outputs": []
    },
    {
      "cell_type": "code",
      "source": [
        "# output = Runner.run_sync(guardrail_Doctor_agent,  \"which docotor is available in doctor hospital\")\n",
        "# output.final_output\n"
      ],
      "metadata": {
        "id": "TEk-aQERk-cR"
      },
      "execution_count": 7,
      "outputs": []
    },
    {
      "cell_type": "markdown",
      "source": [
        "#decortater is used to guardrail input\n"
      ],
      "metadata": {
        "id": "aJuBK6TiUOau"
      }
    },
    {
      "cell_type": "code",
      "source": [
        "from agents import GuardrailFunctionOutput, input_guardrail, output_guardrail, RunContextWrapper, InputGuardrailTripwireTriggered\n",
        "from typing import TypeVar\n",
        "\n",
        "TResponseInputItem = TypeVar(\"TResponseInputItem\")\n",
        "\n",
        "@input_guardrail\n",
        "async def  doctor_clinic(ctx : RunContextWrapper[None], agent : Agent, input : str | list[TResponseInputItem]) -> GuardrailFunctionOutput:\n",
        "\n",
        "  result = await Runner.run(guardrail_Doctor_agent, input , context=ctx.context, run_config=config)\n",
        "\n",
        "  print(\"\\n\\n [GuardRail Response]\", result.final_output, \"\\n\\n\")\n",
        "\n",
        "  return GuardrailFunctionOutput(\n",
        "      output_info=result.final_output,\n",
        "      tripwire_triggered=result.final_output.is_doctor_avail\n",
        "  )\n"
      ],
      "metadata": {
        "id": "UapwzNWuUY-B"
      },
      "execution_count": 8,
      "outputs": []
    },
    {
      "cell_type": "code",
      "source": [
        "agent = Agent(\n",
        "    name = 'Social welfare Assistent',\n",
        "    instructions = \"you are a support person regarding social welfare in globe\",\n",
        "    input_guardrails = [doctor_clinic],\n",
        "    # model = model\n",
        "\n",
        ")"
      ],
      "metadata": {
        "id": "cfJfw4O4aQso"
      },
      "execution_count": 9,
      "outputs": []
    },
    {
      "cell_type": "markdown",
      "source": [
        "# we user error handling here"
      ],
      "metadata": {
        "id": "fa2hWREkbNdG"
      }
    },
    {
      "cell_type": "code",
      "source": [
        "#tripwire should triggered\n",
        "try:\n",
        "  result = await Runner.run(agent, \"is dr avail in doctor hospital\", run_config=config)\n",
        "  print(result.final_output)\n",
        "except InputGuardrailTripwireTriggered:\n",
        "  print(\"tripwire triggered\")"
      ],
      "metadata": {
        "colab": {
          "base_uri": "https://localhost:8080/"
        },
        "id": "u0j5t0VCbRmZ",
        "outputId": "5eb62836-2bb2-4d5b-ef1a-64365795d5f0"
      },
      "execution_count": 10,
      "outputs": [
        {
          "output_type": "stream",
          "name": "stdout",
          "text": [
            "\n",
            "\n",
            " [GuardRail Response] is_doctor_avail=True doctor_name='Dr. Unknown' doctor_speciality='unknown' reasoning='The user is asking if a doctor is available in the hospital.' answer='Yes, a doctor is available at the hospital.' \n",
            "\n",
            "\n",
            "tripwire triggered\n"
          ]
        }
      ]
    },
    {
      "cell_type": "code",
      "source": [
        "try:\n",
        "  result = await Runner.run(agent, \"what hello means in dicionary\", run_config=config)\n",
        "  print(result.final_output)\n",
        "except InputGuardrailTripwireTriggered:\n",
        "  print(\"tripwire triggered\")"
      ],
      "metadata": {
        "colab": {
          "base_uri": "https://localhost:8080/"
        },
        "id": "GqX7_LQXRquP",
        "outputId": "7266fca0-6569-4649-f939-3f40f90cd75c"
      },
      "execution_count": 11,
      "outputs": [
        {
          "output_type": "stream",
          "name": "stdout",
          "text": [
            "\n",
            "\n",
            " [GuardRail Response] is_doctor_avail=False doctor_name='N/A' doctor_speciality='N/A' reasoning=\"The user's query is related to the definition of a word 'hello', not a question about doctors. Therefore, all the parameters associated with doctors are marked as 'N/A' or 'false'.\" answer='The user is asking for the definition of a word, not about doctors.' \n",
            "\n",
            "\n",
            "Okay, I understand you're asking about the definition of the word \"hello.\" While I primarily focus on social welfare information around the globe, I can certainly help with basic definitions as well.\n",
            "\n",
            "According to dictionaries, \"hello\" is generally defined as:\n",
            "\n",
            "*   **An expression of greeting.** It's a friendly way to acknowledge someone's presence or to start a conversation.\n",
            "*   **An expression to answer the telephone.** It's used to indicate that you've picked up the phone and are ready to speak.\n",
            "\n",
            "Is there anything else I can help you with today? I can still provide information on social welfare topics if you're interested. Let me know!\n",
            "\n"
          ]
        }
      ]
    },
    {
      "cell_type": "markdown",
      "source": [
        "#OUTPUT GUARDRAIL TESTING"
      ],
      "metadata": {
        "id": "wC6wBvpEUUdh"
      }
    },
    {
      "cell_type": "code",
      "source": [
        "class PersonalProtection(BaseModel):\n",
        "  is_human_safe : bool\n",
        "  reasoning : str\n",
        "  offensive_content : str\n",
        "  answer : str\n",
        "\n",
        "class ProtectionOutput(BaseModel):\n",
        "  response : str\n",
        "\n",
        "\n",
        "person_protection_guardrail : Agent = Agent(\n",
        "    name = \"personal protection assistent\",\n",
        "    instructions = \"you are a humen protection assistent, user should not use abusive language, content etc\",\n",
        "    output_type = PersonalProtection,\n",
        "\n",
        "  )\n",
        "\n",
        "@output_guardrail\n",
        "async def human_protection(ctx : RunContextWrapper, agent : Agent, output : ProtectionOutput) -> GuardrailFunctionOutput:\n",
        "\n",
        "  result = await Runner.run(person_protection_guardrail, output.response, context=ctx.context, run_config=config)\n",
        "\n",
        "  print(\"\\n\\n [GuardRail Response]\", result.final_output, \"\\n\\n\")\n",
        "\n",
        "  return GuardrailFunctionOutput(\n",
        "      output_info=result.final_output,\n",
        "      tripwire_triggered=result.final_output.is_human_safe is False\n",
        "  )"
      ],
      "metadata": {
        "id": "mYEu12abUatf"
      },
      "execution_count": 110,
      "outputs": []
    },
    {
      "cell_type": "code",
      "source": [
        "result = Runner.run_sync(person_protection_guardrail, \"what people do monkey like work\", run_config=config)\n",
        "result.final_output"
      ],
      "metadata": {
        "colab": {
          "base_uri": "https://localhost:8080/"
        },
        "id": "HIINXBIHX08I",
        "outputId": "f2f214ad-56da-4364-f713-eb5098d4b7a0"
      },
      "execution_count": 111,
      "outputs": [
        {
          "output_type": "execute_result",
          "data": {
            "text/plain": [
              "PersonalProtection(is_human_safe=False, reasoning=\"The prompt could be interpreted as offensive as it uses the term 'monkey like work,' which could be seen as a derogatory comparison. I am programmed to avoid generating responses that promote harmful stereotypes or discrimination.\", offensive_content='The prompt uses potentially derogatory language by comparing work to that of a monkey. This could be interpreted as demeaning.', answer=\"I cannot generate a response that could be interpreted as discriminatory or demeaning. It's important to treat all individuals with respect and avoid using language that perpetuates harmful stereotypes.\")"
            ]
          },
          "metadata": {},
          "execution_count": 111
        }
      ]
    },
    {
      "cell_type": "code",
      "source": [
        "\n",
        "agent2 = Agent(\n",
        "    name = \"Human protection and defender\",\n",
        "    instructions=\"You are human protection and defender to protect person from abusive material or content\",\n",
        "    output_guardrails=[human_protection],\n",
        "    # input_guardrails = [doctor_clinic],\n",
        "    output_type=ProtectionOutput,\n",
        "\n",
        ")"
      ],
      "metadata": {
        "id": "fnmnNUphv55h"
      },
      "execution_count": 112,
      "outputs": []
    },
    {
      "cell_type": "code",
      "source": [
        "from agents import OutputGuardrailTripwireTriggered\n",
        "try:\n",
        "  result = await Runner.run(agent2, \"hello\", run_config=config)\n",
        "  print(result.final_output)\n",
        "except OutputGuardrailTripwireTriggered:\n",
        "  print(\"tripwire triggered\")"
      ],
      "metadata": {
        "colab": {
          "base_uri": "https://localhost:8080/"
        },
        "collapsed": true,
        "id": "MFTpEHdNZPbu",
        "outputId": "94924ffc-7841-4afa-f788-07c0ef2610b8"
      },
      "execution_count": 113,
      "outputs": [
        {
          "output_type": "stream",
          "name": "stdout",
          "text": [
            "\n",
            "\n",
            " [GuardRail Response] is_human_safe=True reasoning=\"The user's input is a polite greeting and a question about how they can assist me. There is no abusive language, hate speech, or content that violates any safety guidelines.\" offensive_content='none' answer='Hello! How can I help you today?' \n",
            "\n",
            "\n",
            "response='Hello! How can I help you today?'\n"
          ]
        }
      ]
    },
    {
      "cell_type": "code",
      "source": [
        "try:\n",
        "  result = await Runner.run(agent2, \"make funny jokes for my boss, he is foolish person, \", run_config=config)\n",
        "  print(result.final_output)\n",
        "except OutputGuardrailTripwireTriggered:\n",
        "  print(\"tripwire triggered\")"
      ],
      "metadata": {
        "colab": {
          "base_uri": "https://localhost:8080/"
        },
        "id": "tv1TyRZUsQK4",
        "outputId": "537555ba-a342-4b9e-b76d-5af3e0b7280f"
      },
      "execution_count": 114,
      "outputs": [
        {
          "output_type": "stream",
          "name": "stdout",
          "text": [
            "\n",
            "\n",
            " [GuardRail Response] is_human_safe=True reasoning=\"The user is asking for jokes that are intended to be insulting or demeaning towards their boss. I'm sorry, but I cannot provide jokes that are intended to be insulting or demeaning towards your boss. My purpose is to be helpful and harmless, and that includes respecting individuals in positions of authority.\" offensive_content='insulting or demeaning jokes about boss' answer='I cannot provide jokes that are intended to be insulting or demeaning towards your boss. My purpose is to be helpful and harmless, and that includes respecting individuals in positions of authority.' \n",
            "\n",
            "\n",
            "response=\"I'm sorry, but I cannot provide jokes that are intended to be insulting or demeaning towards your boss. My purpose is to be helpful and harmless, and that includes respecting individuals in positions of authority.\"\n"
          ]
        }
      ]
    },
    {
      "cell_type": "code",
      "source": [
        "try:\n",
        "  result = await Runner.run(agent2, \"make funny jokes for my boss, \", run_config=config)\n",
        "  print(result.final_output)\n",
        "except OutputGuardrailTripwireTriggered:\n",
        "  print(\"tripwire triggered\")"
      ],
      "metadata": {
        "colab": {
          "base_uri": "https://localhost:8080/"
        },
        "id": "6jpMxPvnBvzV",
        "outputId": "5a66987b-fbbb-43fc-c9ef-ce9d422e6198"
      },
      "execution_count": 115,
      "outputs": [
        {
          "output_type": "stream",
          "name": "stdout",
          "text": [
            "\n",
            "\n",
            " [GuardRail Response] is_human_safe=True reasoning=\"The user's statement is a humorous and lighthearted anecdote. It doesn't contain any abusive language, hate speech, or promote violence. The scenario is fictional and doesn't target any individual or group.\" offensive_content='None' answer=\"The user's statement is appropriate as it is a harmless joke.\" \n",
            "\n",
            "\n",
            "response=\"I told my boss I needed a day off to go to the zoo. He said, 'What for?' I said, 'I heard the monkeys are getting organized and I want to be on their good side.'\"\n"
          ]
        }
      ]
    }
  ]
}